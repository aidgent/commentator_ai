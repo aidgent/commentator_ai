{
  "nbformat": 4,
  "nbformat_minor": 0,
  "metadata": {
    "colab": {
      "provenance": [],
      "authorship_tag": "ABX9TyMSKF1uQkhcHF2aRtfKscN+",
      "include_colab_link": true
    },
    "kernelspec": {
      "name": "python3",
      "display_name": "Python 3"
    },
    "language_info": {
      "name": "python"
    }
  },
  "cells": [
    {
      "cell_type": "markdown",
      "metadata": {
        "id": "view-in-github",
        "colab_type": "text"
      },
      "source": [
        "<a href=\"https://colab.research.google.com/github/jimwhite/commentator_ai/blob/main/Transcript_to_Video.ipynb\" target=\"_parent\"><img src=\"https://colab.research.google.com/assets/colab-badge.svg\" alt=\"Open In Colab\"/></a>"
      ]
    },
    {
      "cell_type": "markdown",
      "source": [
        "# Visualizer.TV: \"MP3 to MTV\" Demo\n",
        "\n",
        " * Concept: Robert Sloan (https://www.linkedin.com/in/sloanrobert/)\n",
        " * Code: Jim White (https://www.linkedin.com/in/jamespaulwhite/)\n",
        " * License: GPL v3 (https://github.com/jimwhite/commentator_ai/blob/main/LICENSE)"
      ],
      "metadata": {
        "id": "XTUZKqZgMb_E"
      }
    },
    {
      "cell_type": "code",
      "execution_count": null,
      "metadata": {
        "id": "jMvpOZVDkrHG"
      },
      "outputs": [],
      "source": [
        "#@title Install dependencies\n",
        "%pip install -qU stability-sdk youtube-transcript-api langchain openai opencv-python yt-dlp ffmpeg-python"
      ]
    },
    {
      "cell_type": "code",
      "source": [
        "#@title Set up Google Drive for file storage\n",
        "try:\n",
        "    from google.colab import drive\n",
        "    drive.mount('/content/gdrive')\n",
        "    outputs_path = \"/content/gdrive/MyDrive/Commentator_AI/Transcript_to_Video\"\n",
        "    !mkdir -p $outputs_path\n",
        "except:\n",
        "    outputs_path = \".\"\n",
        "print(f\"Files will be saved to {outputs_path}\")"
      ],
      "metadata": {
        "colab": {
          "base_uri": "https://localhost:8080/"
        },
        "cellView": "form",
        "id": "u5yM0kgilJhq",
        "outputId": "a83f6d27-e48b-483d-c068-1a9c6fe678ef"
      },
      "execution_count": null,
      "outputs": [
        {
          "output_type": "stream",
          "name": "stdout",
          "text": [
            "Drive already mounted at /content/gdrive; to attempt to forcibly remount, call drive.mount(\"/content/gdrive\", force_remount=True).\n",
            "Files will be saved to /content/gdrive/MyDrive/Commentator_AI/Transcript_to_Video\n"
          ]
        }
      ]
    },
    {
      "cell_type": "code",
      "source": [
        "#@title Set YouTube URL\n",
        "\n",
        "YOUTUBE_URL = \"https://www.youtube.com/watch?v=vPKp29Luryc\" #@param {type:\"string\"}\n",
        "\n",
        "import os\n",
        "import re\n",
        "# import requests\n",
        "# from bs4 import BeautifulSoup\n",
        "\n",
        "def ytIdFromURL(url:str)->str:\n",
        "   data = re.findall(r\"(?:v=|\\/)([0-9A-Za-z_-]{11}).*\", url)\n",
        "   if data:\n",
        "       return data[0]\n",
        "   return None\n",
        "\n",
        "# def ytTitleFromURL(url:str)->str:\n",
        "#   r = requests.get(url)\n",
        "#   soup = BeautifulSoup(r.text, features=\"lxml\")\n",
        "\n",
        "#   link = soup.find_all(name=\"title\")[0]\n",
        "#   artist, title = get_artist_title(link.text)\n",
        "#   print(link.text)\n",
        "#   return title\n",
        "\n",
        "video_id = ytIdFromURL(YOUTUBE_URL)\n",
        "# video_title = ytTitleFromURL(YOUTUBE_URL)\n",
        "# video_title = \"Star Spangled Banner\"\n",
        "# print(f'YouTube video ID = {video_id} title: {video_title}')\n",
        "\n",
        "if not video_id:\n",
        "  raise ValueError(\"video_id isn't set\")\n",
        "\n",
        "out_dir = os.path.join(outputs_path, video_id)\n",
        "\n",
        "print(f'YouTube ID: {video_id}')"
      ],
      "metadata": {
        "colab": {
          "base_uri": "https://localhost:8080/"
        },
        "id": "ftK_JYspmuh8",
        "outputId": "70de2d33-5d78-4d11-dd50-a9a3dffd481a",
        "cellView": "form"
      },
      "execution_count": null,
      "outputs": [
        {
          "output_type": "stream",
          "name": "stdout",
          "text": [
            "YouTube ID: vPKp29Luryc\n"
          ]
        }
      ]
    },
    {
      "cell_type": "code",
      "source": [
        "#@title Get the Audio\n",
        "import os\n",
        "\n",
        "audio_file_path = os.path.join(out_dir, 'audio.m4a')\n",
        "\n",
        "if os.path.exists(audio_file_path):\n",
        "  print('Audio already downloaded')\n",
        "else:\n",
        "  !yt-dlp -f \"bestaudio[ext=m4a]\"  -o \"{audio_file_path}\" \"{YOUTUBE_URL}\""
      ],
      "metadata": {
        "colab": {
          "base_uri": "https://localhost:8080/"
        },
        "cellView": "form",
        "id": "m0I3sEpNsZED",
        "outputId": "847723fd-5ef5-4482-ffe6-33f61c89c8b3"
      },
      "execution_count": null,
      "outputs": [
        {
          "output_type": "stream",
          "name": "stdout",
          "text": [
            "Audio already downloaded\n"
          ]
        }
      ]
    },
    {
      "cell_type": "code",
      "source": [
        "#@title Get Video Transcript (CSV)\n",
        "\n",
        "# Using CSV files is a convenient way to integrate with LangChain (and LangFlow).\n",
        "# Also is much more efficient in token usage so longer transcripts will work for\n",
        "# any given LLM context token limit.\n",
        "\n",
        "import csv\n",
        "from youtube_transcript_api import YouTubeTranscriptApi\n",
        "\n",
        "transcript = []\n",
        "\n",
        "transcript_file_path = os.path.join(out_dir, 'transcript.csv')\n",
        "fieldnames = ['start', 'duration', 'text']\n",
        "if os.path.exists(transcript_file_path):\n",
        "  with open(transcript_file_path, 'r') as csv_file:\n",
        "    reader = csv.DictReader(csv_file, fieldnames=fieldnames, quoting=csv.QUOTE_NONNUMERIC)\n",
        "    next(reader)  # skip header\n",
        "    for row in reader:\n",
        "      transcript.append(row)\n",
        "    print(f'Read transcript from file: {transcript_file_path}')\n",
        "\n",
        "if not transcript:\n",
        "  transcript = YouTubeTranscriptApi.get_transcript(video_id)\n",
        "  print('Got transcript from YouTube API')\n",
        "  os.makedirs(out_dir, exist_ok=True)\n",
        "  with open(transcript_file_path, 'w', newline='') as csv_file:\n",
        "    writer = csv.DictWriter(csv_file, fieldnames=fieldnames, quoting=csv.QUOTE_NONNUMERIC)\n",
        "    writer.writeheader()\n",
        "    for row in transcript:\n",
        "      writer.writerow(row)\n",
        "    print(f'Saved transcript to file: {transcript_file_path}')\n",
        "\n",
        "transcript"
      ],
      "metadata": {
        "colab": {
          "base_uri": "https://localhost:8080/"
        },
        "outputId": "0c20cff2-03c2-4bd7-e632-741637af4dac",
        "id": "MOGyhWukzHUF",
        "cellView": "form"
      },
      "execution_count": null,
      "outputs": [
        {
          "output_type": "stream",
          "name": "stdout",
          "text": [
            "Read transcript from file: /content/gdrive/MyDrive/Commentator_AI/Transcript_to_Video/vPKp29Luryc/transcript.csv\n"
          ]
        },
        {
          "output_type": "execute_result",
          "data": {
            "text/plain": [
              "[{'start': 7.407, 'duration': 4.071, 'text': 'O say can you see,'},\n",
              " {'start': 11.478, 'duration': 3.737, 'text': \"by the dawn's early light,\"},\n",
              " {'start': 15.215, 'duration': 3.837, 'text': 'What so proudly we hailed'},\n",
              " {'start': 19.052,\n",
              "  'duration': 3.937,\n",
              "  'text': \"at the twilight's last gleaming?\"},\n",
              " {'start': 22.989,\n",
              "  'duration': 3.937,\n",
              "  'text': 'Whose broad stripes and bright stars,'},\n",
              " {'start': 26.926, 'duration': 3.537, 'text': 'through the perilous fight,'},\n",
              " {'start': 30.463, 'duration': 3.737, 'text': \"O'er the ramparts we watched,\"},\n",
              " {'start': 34.2, 'duration': 4.071, 'text': 'were so gallantly streaming?'},\n",
              " {'start': 38.271, 'duration': 3.837, 'text': 'And the rockets red glare,'},\n",
              " {'start': 42.108, 'duration': 3.837, 'text': 'the bombs bursting in air,'},\n",
              " {'start': 45.945, 'duration': 3.737, 'text': 'Gave proof through the night'},\n",
              " {'start': 49.682,\n",
              "  'duration': 3.871,\n",
              "  'text': 'that our flag was still there.'},\n",
              " {'start': 53.553, 'duration': 2.603, 'text': 'O say does that'},\n",
              " {'start': 56.156, 'duration': 6.573, 'text': 'star spangled banner yet wave'},\n",
              " {'start': 62.729, 'duration': 4.871, 'text': \"O'er the land of the free,\"},\n",
              " {'start': 67.6, 'duration': 7.608, 'text': 'and the home of the brave.'}]"
            ]
          },
          "metadata": {},
          "execution_count": 5
        }
      ]
    },
    {
      "cell_type": "code",
      "source": [
        "#@title Get OpenAI API key\n",
        "from getpass import getpass\n",
        "\n",
        "if not 'OPENAI_API_KEY' in os.environ:\n",
        "  key = getpass('Enter your OpenAI API key: ')\n",
        "  if key:\n",
        "    os.environ['OPENAI_API_KEY'] = key\n"
      ],
      "metadata": {
        "colab": {
          "base_uri": "https://localhost:8080/"
        },
        "cellView": "form",
        "id": "DamCbUW1BKXx",
        "outputId": "788f1571-7508-4e88-9810-1eb9c4aca993"
      },
      "execution_count": null,
      "outputs": [
        {
          "name": "stdout",
          "output_type": "stream",
          "text": [
            "Enter your OpenAI API key: ··········\n"
          ]
        }
      ]
    },
    {
      "cell_type": "code",
      "source": [
        "%%writefile prompt.txt\n",
        "You're a visual musical artist.\n",
        "Given the following lyrics choose the phrases that should be illustrated to make a timed music video for this song.\n",
        "Respond in CSV format with the columns\n",
        "'start', 'duration', 'text' (for the transcription text), 'description' (for the image description).\n",
        "For the first row start at time 0 and make an image description that reflects the songs theme.\n",
        "Keep in mind that each image description will be rendered separately so don't use any references between them.\n",
        "Also because the image rendering is done in isolation for each description please be sure to include\n",
        "enough thematic keys in them so the images are holistic related to the song's theme.\n",
        "=== lyrics ==="
      ],
      "metadata": {
        "colab": {
          "base_uri": "https://localhost:8080/"
        },
        "id": "nSmt9dceRasY",
        "outputId": "4988bbd0-d3ff-4aa4-e66b-d54ddaf2f15e"
      },
      "execution_count": null,
      "outputs": [
        {
          "output_type": "stream",
          "name": "stdout",
          "text": [
            "Overwriting prompt.txt\n"
          ]
        }
      ]
    },
    {
      "cell_type": "code",
      "source": [
        "#@title ChatGPT selects lyrics to illustrate and generates image descriptions\n",
        "\n",
        "CHAT_MODEL = 'gpt-4-0613'  #@param {type:\"string\"}\n",
        "TEMPERATURE = 0.5  #@param {type:\"number\"}\n",
        "\n",
        "from langchain.chat_models import ChatOpenAI\n",
        "from langchain.schema import HumanMessage, SystemMessage\n",
        "\n",
        "image_description_csv_text = None\n",
        "out_dir = os.path.join(outputs_path, video_id)\n",
        "image_description_file_path = os.path.join(out_dir, 'image_descriptions.csv')\n",
        "fieldnames = ['start', 'duration', 'text', 'description']\n",
        "if os.path.exists(image_description_file_path):\n",
        "  with open(image_description_file_path, 'r') as csv_file:\n",
        "    image_description_csv_text = csv_file.read()\n",
        "    print(f'Read image descriptions from file: {image_description_file_path}')\n",
        "    print(image_description_csv_text)\n",
        "\n",
        "if not image_description_csv_text:\n",
        "  chat = ChatOpenAI(temperature=TEMPERATURE, model=CHAT_MODEL)\n",
        "  print('ChatGPT working...')\n",
        "  prompt_text = ''\n",
        "  with open('prompt.txt', 'r') as f:\n",
        "    prompt_text = f.read()\n",
        "  with open(transcript_file_path, 'r') as csv_file:\n",
        "    prompt_text = '\\n\\n'.join([prompt_text, csv_file.read()])\n",
        "  response = chat([HumanMessage(content=prompt_text)])\n",
        "  print('Got image descriptions from ChatGPT')\n",
        "  image_description_csv_text = response.content\n",
        "  print(image_description_csv_text)\n",
        "  os.makedirs(out_dir, exist_ok=True)\n",
        "  with open(image_description_file_path, 'w', newline='') as csv_file:\n",
        "    csv_file.write(response.content)\n",
        "    print(f'Saved image descriptions to file: {image_description_file_path}')\n"
      ],
      "metadata": {
        "colab": {
          "base_uri": "https://localhost:8080/"
        },
        "id": "6e-QQ9Xtetw0",
        "outputId": "bbeb0482-c866-4ce2-d88a-b6c72074bd6f",
        "cellView": "form"
      },
      "execution_count": null,
      "outputs": [
        {
          "output_type": "stream",
          "name": "stdout",
          "text": [
            "Read image descriptions from file: /content/gdrive/MyDrive/Commentator_AI/Transcript_to_Video/vPKp29Luryc/image_descriptions.csv\n",
            "\"start\",\"duration\",\"text\",\"description\"\n",
            "0,7.407,\"\",\"A patriotic theme with a waving American flag in the background.\"\n",
            "7.407,4.071,\"O say can you see,\",\"A person looking into the distance with a questioning expression.\"\n",
            "11.478,3.737,\"by the dawn's early light,\",\"A beautiful dawn breaking, the first light of day illuminating the scene.\"\n",
            "15.215,3.837,\"What so proudly we hailed\",\"A group of people saluting a flying American flag.\"\n",
            "19.052,3.937,\"at the twilight's last gleaming?\",\"A twilight sky, the last rays of the sun reflecting off an American flag.\"\n",
            "22.989,3.937,\"Whose broad stripes and bright stars,\",\"A close-up of an American flag, focusing on the stripes and stars.\"\n",
            "26.926,3.537,\"through the perilous fight,\",\"Soldiers in battle, with the American flag in the background.\"\n",
            "30.463,3.737,\"O'er the ramparts we watched,\",\"People watching from a fortress wall, the American flag flying high.\"\n",
            "34.2,4.071,\"were so gallantly streaming?\",\"The American flag streaming gallantly in the wind.\"\n",
            "38.271,3.837,\"And the rockets red glare,\",\"Rockets lighting up the night sky, casting a red glow on the American flag.\"\n",
            "42.108,3.837,\"the bombs bursting in air,\",\"Bombs exploding in the sky, the American flag still standing amidst the chaos.\"\n",
            "45.945,3.737,\"Gave proof through the night\",\"The American flag visible through the smoke and debris of the night's battle.\"\n",
            "49.682,3.871,\"that our flag was still there.\",\"The smoke clears revealing the American flag still standing.\"\n",
            "53.553,2.603,\"O say does that\",\"A person questioning, looking towards the American flag.\"\n",
            "56.156,6.573,\"star spangled banner yet wave\",\"The American flag, star-spangled banner, waving in the wind.\"\n",
            "62.729,4.871,\"O'er the land of the free,\",\"A panoramic view of America, the flag waving proudly.\"\n",
            "67.6,7.608,\"and the home of the brave.\",\"A home with an American flag in the front yard, symbolizing the home of the brave.\"\n"
          ]
        }
      ]
    },
    {
      "cell_type": "code",
      "source": [
        "#@title Connect to the Stability API\n",
        "\n",
        "IMAGE_MODEL='stable-diffusion-xl-beta-v2-2-2' #@param {type:\"string\"}\n",
        "\n",
        "import io\n",
        "import os\n",
        "import warnings\n",
        "\n",
        "from IPython.display import display\n",
        "from PIL import Image\n",
        "from stability_sdk import client\n",
        "import stability_sdk.interfaces.gooseai.generation.generation_pb2 as generation\n",
        "\n",
        "if not 'STABILITY_KEY' in os.environ:\n",
        "  key = getpass('Enter your Stability API key: ')\n",
        "  if key:\n",
        "    os.environ['STABILITY_KEY'] = key\n",
        "\n",
        "stability_api = client.StabilityInference(\n",
        "    key=os.environ['STABILITY_KEY'],\n",
        "    engine=IMAGE_MODEL, verbose=True,\n",
        ")"
      ],
      "metadata": {
        "colab": {
          "base_uri": "https://localhost:8080/"
        },
        "id": "0Q7MEkMimZBf",
        "outputId": "ac8df198-a1cd-4e61-b23a-3b1602b9f2a9",
        "cellView": "form"
      },
      "execution_count": null,
      "outputs": [
        {
          "name": "stdout",
          "output_type": "stream",
          "text": [
            "Enter your Stability API key: ··········\n"
          ]
        },
        {
          "output_type": "stream",
          "name": "stderr",
          "text": [
            "INFO:stability_sdk.client:Opening channel to grpc.stability.ai:443\n",
            "INFO:stability_sdk.client:Channel opened to grpc.stability.ai:443\n"
          ]
        }
      ]
    },
    {
      "cell_type": "code",
      "source": [
        "#@title Generate Images using Stable Diffusion\n",
        "\n",
        "IMAGE_WIDTH=896 #@param {type:\"number\"}\n",
        "IMAGE_HEIGHT=512 #@param {type:\"number\"}\n",
        "IMAGE_GEN_STEPS=22 #@param {type:\"number\"}\n",
        "\n",
        "def generate_image(prompt: str):\n",
        "  # the object returned is a python generator\n",
        "  answers = stability_api.generate(\n",
        "      prompt=prompt,\n",
        "      width=IMAGE_WIDTH, height=IMAGE_HEIGHT, steps=IMAGE_GEN_STEPS\n",
        "  )\n",
        "\n",
        "  # iterating over the generator produces the api response\n",
        "  for resp in answers:\n",
        "      for artifact in resp.artifacts:\n",
        "          if artifact.finish_reason == generation.FILTER:\n",
        "              warnings.warn(\n",
        "                  \"Your request activated the API's safety filters and could not be processed.\"\n",
        "                  \"Please modify the prompt and try again.\")\n",
        "          if artifact.type == generation.ARTIFACT_IMAGE:\n",
        "              img = Image.open(io.BytesIO(artifact.binary))\n",
        "              return img\n",
        "\n",
        "  print(f\"No image for '{prompt}'\")\n",
        "  return None\n",
        "\n",
        "\n",
        "def description_to_filepath(description:str):\n",
        "  filename = re.sub(r'[^\\w\\d-]','_', description).lower()\n",
        "  return os.path.join(out_dir, filename + '.png')\n",
        "\n",
        "\n",
        "with open(image_description_file_path, 'r') as csv_file:\n",
        "  reader = csv.DictReader(csv_file, quoting=csv.QUOTE_NONNUMERIC)\n",
        "  for row in reader:\n",
        "    print(row)\n",
        "    description = row['description']\n",
        "    image_file_path = description_to_filepath(description)\n",
        "    if os.path.exists(image_file_path):\n",
        "      print(f\"Skipping description that has an image: {description}\")\n",
        "      # image = Image.open(image_file_path)\n",
        "      # display(image)\n",
        "    else:\n",
        "      print(f\"Generating image for {description}\")\n",
        "      image = generate_image(description)\n",
        "      image.save(image_file_path)\n",
        "      display(image)\n"
      ],
      "metadata": {
        "colab": {
          "base_uri": "https://localhost:8080/"
        },
        "id": "uaDN5mpsmJy0",
        "outputId": "26e29713-1735-408f-cd8d-7ae9bf54a202"
      },
      "execution_count": null,
      "outputs": [
        {
          "output_type": "stream",
          "name": "stdout",
          "text": [
            "{'start': 0.0, 'duration': 7.407, 'text': '', 'description': 'A patriotic theme with a waving American flag in the background.'}\n",
            "Skipping description that has an image: A patriotic theme with a waving American flag in the background.\n",
            "{'start': 7.407, 'duration': 4.071, 'text': 'O say can you see,', 'description': 'A person looking into the distance with a questioning expression.'}\n",
            "Skipping description that has an image: A person looking into the distance with a questioning expression.\n",
            "{'start': 11.478, 'duration': 3.737, 'text': \"by the dawn's early light,\", 'description': 'A beautiful dawn breaking, the first light of day illuminating the scene.'}\n",
            "Skipping description that has an image: A beautiful dawn breaking, the first light of day illuminating the scene.\n",
            "{'start': 15.215, 'duration': 3.837, 'text': 'What so proudly we hailed', 'description': 'A group of people saluting a flying American flag.'}\n",
            "Skipping description that has an image: A group of people saluting a flying American flag.\n",
            "{'start': 19.052, 'duration': 3.937, 'text': \"at the twilight's last gleaming?\", 'description': 'A twilight sky, the last rays of the sun reflecting off an American flag.'}\n",
            "Skipping description that has an image: A twilight sky, the last rays of the sun reflecting off an American flag.\n",
            "{'start': 22.989, 'duration': 3.937, 'text': 'Whose broad stripes and bright stars,', 'description': 'A close-up of an American flag, focusing on the stripes and stars.'}\n",
            "Skipping description that has an image: A close-up of an American flag, focusing on the stripes and stars.\n",
            "{'start': 26.926, 'duration': 3.537, 'text': 'through the perilous fight,', 'description': 'Soldiers in battle, with the American flag in the background.'}\n",
            "Skipping description that has an image: Soldiers in battle, with the American flag in the background.\n",
            "{'start': 30.463, 'duration': 3.737, 'text': \"O'er the ramparts we watched,\", 'description': 'People watching from a fortress wall, the American flag flying high.'}\n",
            "Skipping description that has an image: People watching from a fortress wall, the American flag flying high.\n",
            "{'start': 34.2, 'duration': 4.071, 'text': 'were so gallantly streaming?', 'description': 'The American flag streaming gallantly in the wind.'}\n",
            "Skipping description that has an image: The American flag streaming gallantly in the wind.\n",
            "{'start': 38.271, 'duration': 3.837, 'text': 'And the rockets red glare,', 'description': 'Rockets lighting up the night sky, casting a red glow on the American flag.'}\n",
            "Skipping description that has an image: Rockets lighting up the night sky, casting a red glow on the American flag.\n",
            "{'start': 42.108, 'duration': 3.837, 'text': 'the bombs bursting in air,', 'description': 'Bombs exploding in the sky, the American flag still standing amidst the chaos.'}\n",
            "Skipping description that has an image: Bombs exploding in the sky, the American flag still standing amidst the chaos.\n",
            "{'start': 45.945, 'duration': 3.737, 'text': 'Gave proof through the night', 'description': \"The American flag visible through the smoke and debris of the night's battle.\"}\n",
            "Skipping description that has an image: The American flag visible through the smoke and debris of the night's battle.\n",
            "{'start': 49.682, 'duration': 3.871, 'text': 'that our flag was still there.', 'description': 'The smoke clears revealing the American flag still standing.'}\n",
            "Skipping description that has an image: The smoke clears revealing the American flag still standing.\n",
            "{'start': 53.553, 'duration': 2.603, 'text': 'O say does that', 'description': 'A person questioning, looking towards the American flag.'}\n",
            "Skipping description that has an image: A person questioning, looking towards the American flag.\n",
            "{'start': 56.156, 'duration': 6.573, 'text': 'star spangled banner yet wave', 'description': 'The American flag, star-spangled banner, waving in the wind.'}\n",
            "Skipping description that has an image: The American flag, star-spangled banner, waving in the wind.\n",
            "{'start': 62.729, 'duration': 4.871, 'text': \"O'er the land of the free,\", 'description': 'A panoramic view of America, the flag waving proudly.'}\n",
            "Skipping description that has an image: A panoramic view of America, the flag waving proudly.\n",
            "{'start': 67.6, 'duration': 7.608, 'text': 'and the home of the brave.', 'description': 'A home with an American flag in the front yard, symbolizing the home of the brave.'}\n",
            "Skipping description that has an image: A home with an American flag in the front yard, symbolizing the home of the brave.\n"
          ]
        }
      ]
    },
    {
      "cell_type": "code",
      "source": [
        "#@title Generate Video using OpenCV\n",
        "\n",
        "import cv2\n",
        "\n",
        "video_path = os.path.join(out_dir, 'video.mp4')\n",
        "\n",
        "video_width = IMAGE_WIDTH\n",
        "video_height = IMAGE_HEIGHT\n",
        "print(video_width, ', ', video_height)\n",
        "\n",
        "fps = 24.0\n",
        "\n",
        "max_frame_count_limit = int(100 * fps)\n",
        "\n",
        "total_frame_count = 0\n",
        "\n",
        "def write_frames(image:Image, limit_seconds:float):\n",
        "  global total_frame_count\n",
        "  frame_count_limit = int(limit_seconds * fps)\n",
        "  print(f\"Adding {frame_count_limit - total_frame_count} frames for '{last_row['description']}'\")\n",
        "  if ((frame_count_limit - total_frame_count) > max_frame_count_limit):\n",
        "    frame_count_limit = total_frame_count + max_frame_count_limit\n",
        "    print('Frame count too high.  Reduced to ', frame_count_limit - total_frame_count)\n",
        "  while total_frame_count < frame_count_limit:\n",
        "    video.write(image)\n",
        "    total_frame_count += 1\n",
        "\n",
        "try:\n",
        "  fourcc = cv2.VideoWriter_fourcc('F','M','P','4')\n",
        "  video = cv2.VideoWriter(video_path, fourcc, fps, (video_width, video_height))\n",
        "  with open(image_description_file_path, 'r') as csv_file:\n",
        "    reader = csv.DictReader(csv_file, quoting=csv.QUOTE_NONNUMERIC)\n",
        "\n",
        "    # The image for frames we add are from the previous scene row.\n",
        "    last_row = None\n",
        "    last_image = None\n",
        "    for row in reader:\n",
        "      if last_image is not None:\n",
        "        write_frames(image=last_image, limit_seconds=row['start'])\n",
        "      print(row)\n",
        "      description = row['description']\n",
        "      image_file_path = description_to_filepath(description)\n",
        "      if not os.path.exists(image_file_path):\n",
        "        print(f\"Missing image file: {filename}\")\n",
        "        continue\n",
        "      last_row = row\n",
        "      last_image = cv2.imread(image_file_path)\n",
        "    if last_image is not None:\n",
        "      write_frames(image=last_image, limit_seconds=last_row['start'] + last_row['duration'])\n",
        "\n",
        "finally:\n",
        "  print('finalizing')\n",
        "  cv2.destroyAllWindows()\n",
        "  video.release()\n",
        "\n",
        "print(f'Done! Wrote {total_frame_count} frames ({total_frame_count / fps} seconds) to {video_path}')"
      ],
      "metadata": {
        "colab": {
          "base_uri": "https://localhost:8080/"
        },
        "id": "NjzRH1rZTL_q",
        "outputId": "0d24c5ac-70e7-496d-d77d-646b272a7ba5"
      },
      "execution_count": null,
      "outputs": [
        {
          "output_type": "stream",
          "name": "stdout",
          "text": [
            "896 ,  512\n",
            "{'start': 0.0, 'duration': 7.407, 'text': '', 'description': 'A patriotic theme with a waving American flag in the background.'}\n",
            "Adding 177 frames for 'A patriotic theme with a waving American flag in the background.'\n",
            "{'start': 7.407, 'duration': 4.071, 'text': 'O say can you see,', 'description': 'A person looking into the distance with a questioning expression.'}\n",
            "Adding 98 frames for 'A person looking into the distance with a questioning expression.'\n",
            "{'start': 11.478, 'duration': 3.737, 'text': \"by the dawn's early light,\", 'description': 'A beautiful dawn breaking, the first light of day illuminating the scene.'}\n",
            "Adding 90 frames for 'A beautiful dawn breaking, the first light of day illuminating the scene.'\n",
            "{'start': 15.215, 'duration': 3.837, 'text': 'What so proudly we hailed', 'description': 'A group of people saluting a flying American flag.'}\n",
            "Adding 92 frames for 'A group of people saluting a flying American flag.'\n",
            "{'start': 19.052, 'duration': 3.937, 'text': \"at the twilight's last gleaming?\", 'description': 'A twilight sky, the last rays of the sun reflecting off an American flag.'}\n",
            "Adding 94 frames for 'A twilight sky, the last rays of the sun reflecting off an American flag.'\n",
            "{'start': 22.989, 'duration': 3.937, 'text': 'Whose broad stripes and bright stars,', 'description': 'A close-up of an American flag, focusing on the stripes and stars.'}\n",
            "Adding 95 frames for 'A close-up of an American flag, focusing on the stripes and stars.'\n",
            "{'start': 26.926, 'duration': 3.537, 'text': 'through the perilous fight,', 'description': 'Soldiers in battle, with the American flag in the background.'}\n",
            "Adding 85 frames for 'Soldiers in battle, with the American flag in the background.'\n",
            "{'start': 30.463, 'duration': 3.737, 'text': \"O'er the ramparts we watched,\", 'description': 'People watching from a fortress wall, the American flag flying high.'}\n",
            "Adding 89 frames for 'People watching from a fortress wall, the American flag flying high.'\n",
            "{'start': 34.2, 'duration': 4.071, 'text': 'were so gallantly streaming?', 'description': 'The American flag streaming gallantly in the wind.'}\n",
            "Adding 98 frames for 'The American flag streaming gallantly in the wind.'\n",
            "{'start': 38.271, 'duration': 3.837, 'text': 'And the rockets red glare,', 'description': 'Rockets lighting up the night sky, casting a red glow on the American flag.'}\n",
            "Adding 92 frames for 'Rockets lighting up the night sky, casting a red glow on the American flag.'\n",
            "{'start': 42.108, 'duration': 3.837, 'text': 'the bombs bursting in air,', 'description': 'Bombs exploding in the sky, the American flag still standing amidst the chaos.'}\n",
            "Adding 92 frames for 'Bombs exploding in the sky, the American flag still standing amidst the chaos.'\n",
            "{'start': 45.945, 'duration': 3.737, 'text': 'Gave proof through the night', 'description': \"The American flag visible through the smoke and debris of the night's battle.\"}\n",
            "Adding 90 frames for 'The American flag visible through the smoke and debris of the night's battle.'\n",
            "{'start': 49.682, 'duration': 3.871, 'text': 'that our flag was still there.', 'description': 'The smoke clears revealing the American flag still standing.'}\n",
            "Adding 93 frames for 'The smoke clears revealing the American flag still standing.'\n",
            "{'start': 53.553, 'duration': 2.603, 'text': 'O say does that', 'description': 'A person questioning, looking towards the American flag.'}\n",
            "Adding 62 frames for 'A person questioning, looking towards the American flag.'\n",
            "{'start': 56.156, 'duration': 6.573, 'text': 'star spangled banner yet wave', 'description': 'The American flag, star-spangled banner, waving in the wind.'}\n",
            "Adding 158 frames for 'The American flag, star-spangled banner, waving in the wind.'\n",
            "{'start': 62.729, 'duration': 4.871, 'text': \"O'er the land of the free,\", 'description': 'A panoramic view of America, the flag waving proudly.'}\n",
            "Adding 117 frames for 'A panoramic view of America, the flag waving proudly.'\n",
            "{'start': 67.6, 'duration': 7.608, 'text': 'and the home of the brave.', 'description': 'A home with an American flag in the front yard, symbolizing the home of the brave.'}\n",
            "Adding 182 frames for 'A home with an American flag in the front yard, symbolizing the home of the brave.'\n",
            "finalizing\n",
            "Done! Wrote 1804 frames (75.16666666666667 seconds) to /content/gdrive/MyDrive/Commentator_AI/Transcript_to_Video/vPKp29Luryc/video.mp4\n"
          ]
        }
      ]
    },
    {
      "cell_type": "code",
      "source": [
        "#@title Merge Audio with Video using ffmpeg-python\n",
        "import ffmpeg\n",
        "\n",
        "video_with_audio_path = os.path.join(out_dir, 'video_with_audio.mp4')\n",
        "\n",
        "if os.path.exists(video_with_audio_path):\n",
        "  print('video with audio already exists: ', video_with_audio_path)\n",
        "else:\n",
        "  video_in = ffmpeg.input(video_path)\n",
        "  audio_in = ffmpeg.input(audio_file_path)\n",
        "  print('concatenating with ffmpeg')\n",
        "  try:\n",
        "    result = ffmpeg.concat(video_in, audio_in, v=1, a=1).output(video_with_audio_path).run()\n",
        "    print('Done merging')\n",
        "  except:\n",
        "    print('Merge failed!')"
      ],
      "metadata": {
        "colab": {
          "base_uri": "https://localhost:8080/"
        },
        "cellView": "form",
        "id": "NiaCESjJty_1",
        "outputId": "ffa97910-886e-4e11-94c8-5fbafa61a428"
      },
      "execution_count": null,
      "outputs": [
        {
          "output_type": "stream",
          "name": "stdout",
          "text": [
            "concatenating with ffmpeg\n",
            "Done merging\n"
          ]
        }
      ]
    }
  ]
}