{
  "nbformat": 4,
  "nbformat_minor": 0,
  "metadata": {
    "colab": {
      "provenance": [],
      "authorship_tag": "ABX9TyMiGkgk7AKXPgp8Y+CKy4uc",
      "include_colab_link": true
    },
    "kernelspec": {
      "name": "python3",
      "display_name": "Python 3"
    },
    "language_info": {
      "name": "python"
    }
  },
  "cells": [
    {
      "cell_type": "markdown",
      "metadata": {
        "id": "view-in-github",
        "colab_type": "text"
      },
      "source": [
        "<a href=\"https://colab.research.google.com/github/jimwhite/commentator_ai/blob/main/Transcript_to_Video.ipynb\" target=\"_parent\"><img src=\"https://colab.research.google.com/assets/colab-badge.svg\" alt=\"Open In Colab\"/></a>"
      ]
    },
    {
      "cell_type": "code",
      "execution_count": 1,
      "metadata": {
        "colab": {
          "base_uri": "https://localhost:8080/"
        },
        "id": "jMvpOZVDkrHG",
        "outputId": "bdabbcca-a157-49a4-d392-860acaccb3d7"
      },
      "outputs": [
        {
          "output_type": "stream",
          "name": "stdout",
          "text": [
            "\u001b[2K     \u001b[90m━━━━━━━━━━━━━━━━━━━━━━━━━━━━━━━━━━━━━━━━\u001b[0m \u001b[32m83.8/83.8 kB\u001b[0m \u001b[31m3.5 MB/s\u001b[0m eta \u001b[36m0:00:00\u001b[0m\n",
            "\u001b[2K     \u001b[90m━━━━━━━━━━━━━━━━━━━━━━━━━━━━━━━━━━━━━━━━\u001b[0m \u001b[32m5.0/5.0 MB\u001b[0m \u001b[31m60.0 MB/s\u001b[0m eta \u001b[36m0:00:00\u001b[0m\n",
            "\u001b[2K     \u001b[90m━━━━━━━━━━━━━━━━━━━━━━━━━━━━━━━━━━━━━━━━\u001b[0m \u001b[32m2.4/2.4 MB\u001b[0m \u001b[31m71.8 MB/s\u001b[0m eta \u001b[36m0:00:00\u001b[0m\n",
            "\u001b[2K     \u001b[90m━━━━━━━━━━━━━━━━━━━━━━━━━━━━━━━━━━━━━━\u001b[0m \u001b[32m409.8/409.8 kB\u001b[0m \u001b[31m28.8 MB/s\u001b[0m eta \u001b[36m0:00:00\u001b[0m\n",
            "\u001b[?25h"
          ]
        }
      ],
      "source": [
        "%pip install -q stability-sdk youtube-transcript-api"
      ]
    },
    {
      "cell_type": "code",
      "source": [
        "#@title Set up Google Drive for file storage\n",
        "try:\n",
        "    from google.colab import drive\n",
        "    drive.mount('/content/gdrive')\n",
        "    outputs_path = \"/content/gdrive/MyDrive/Commentator_AI/Transcript_to_Video\"\n",
        "    !mkdir -p $outputs_path\n",
        "except:\n",
        "    outputs_path = \".\"\n",
        "print(f\"Files will be saved to {outputs_path}\")"
      ],
      "metadata": {
        "colab": {
          "base_uri": "https://localhost:8080/"
        },
        "id": "u5yM0kgilJhq",
        "outputId": "fa76948a-b35b-4da4-9726-bd049094e699"
      },
      "execution_count": 2,
      "outputs": [
        {
          "output_type": "stream",
          "name": "stdout",
          "text": [
            "Mounted at /content/gdrive\n",
            "Files will be saved to /content/gdrive/MyDrive/Commentator_AI/Transcript_to_Video\n"
          ]
        }
      ]
    },
    {
      "cell_type": "code",
      "source": [
        "#@title Set YouTube URL\n",
        "import re\n",
        "def ytIdFromURL(url:str)->str:\n",
        "   data = re.findall(r\"(?:v=|\\/)([0-9A-Za-z_-]{11}).*\", url)\n",
        "   if data:\n",
        "       return data[0]\n",
        "   return None\n",
        "\n",
        "YOUTUBE_URL = \"https://www.youtube.com/watch?v=vPKp29Luryc\" #@param {type:\"string\"}\n",
        "video_id = ytIdFromURL(YOUTUBE_URL)\n",
        "print(f'YouTube video ID = {video_id}')"
      ],
      "metadata": {
        "colab": {
          "base_uri": "https://localhost:8080/"
        },
        "cellView": "form",
        "id": "ftK_JYspmuh8",
        "outputId": "8bd5181b-1154-4d4d-a335-b15b1a3e9ecb"
      },
      "execution_count": 12,
      "outputs": [
        {
          "output_type": "stream",
          "name": "stdout",
          "text": [
            "YouTube video ID = vPKp29Luryc\n"
          ]
        }
      ]
    },
    {
      "cell_type": "code",
      "source": [
        "import json\n",
        "import os\n",
        "from youtube_transcript_api import YouTubeTranscriptApi\n",
        "\n",
        "if not video_id:\n",
        "  raise ValueError(\"video_id isn't set\")\n",
        "\n",
        "transcript = None\n",
        "out_dir = os.path.join(outputs_path, video_id)\n",
        "transcript_file_path = os.path.join(out_dir, 'transcript.json')\n",
        "if os.path.exists(transcript_file_path):\n",
        "  with open(transcript_file_path, 'r') as json_file:\n",
        "    transcript = json.load(json_file)\n",
        "    print('Read transcript from file')\n",
        "\n",
        "if not transcript:\n",
        "  transcript = YouTubeTranscriptApi.get_transcript(video_id)\n",
        "  print('Got transcript from YouTube API')\n",
        "  os.makedirs(out_dir, exist_ok=True)\n",
        "  with open(transcript_file_path, 'w') as json_file:\n",
        "    json.dump(transcript, json_file)\n",
        "    print(f'Saved transcript to file: {transcript_file_path}')\n",
        "\n",
        "transcript"
      ],
      "metadata": {
        "colab": {
          "base_uri": "https://localhost:8080/"
        },
        "id": "f1B7pIN9lw9Y",
        "outputId": "e84fda3a-afb5-4e48-a9cb-1bb5015d1b61"
      },
      "execution_count": 18,
      "outputs": [
        {
          "output_type": "stream",
          "name": "stdout",
          "text": [
            "Read transcript from file\n"
          ]
        },
        {
          "output_type": "execute_result",
          "data": {
            "text/plain": [
              "[{'text': 'O say can you see,', 'start': 7.407, 'duration': 4.071},\n",
              " {'text': \"by the dawn's early light,\", 'start': 11.478, 'duration': 3.737},\n",
              " {'text': 'What so proudly we hailed', 'start': 15.215, 'duration': 3.837},\n",
              " {'text': \"at the twilight's last gleaming?\",\n",
              "  'start': 19.052,\n",
              "  'duration': 3.937},\n",
              " {'text': 'Whose broad stripes and bright stars,',\n",
              "  'start': 22.989,\n",
              "  'duration': 3.937},\n",
              " {'text': 'through the perilous fight,', 'start': 26.926, 'duration': 3.537},\n",
              " {'text': \"O'er the ramparts we watched,\", 'start': 30.463, 'duration': 3.737},\n",
              " {'text': 'were so gallantly streaming?', 'start': 34.2, 'duration': 4.071},\n",
              " {'text': 'And the rockets red glare,', 'start': 38.271, 'duration': 3.837},\n",
              " {'text': 'the bombs bursting in air,', 'start': 42.108, 'duration': 3.837},\n",
              " {'text': 'Gave proof through the night', 'start': 45.945, 'duration': 3.737},\n",
              " {'text': 'that our flag was still there.',\n",
              "  'start': 49.682,\n",
              "  'duration': 3.871},\n",
              " {'text': 'O say does that', 'start': 53.553, 'duration': 2.603},\n",
              " {'text': 'star spangled banner yet wave', 'start': 56.156, 'duration': 6.573},\n",
              " {'text': \"O'er the land of the free,\", 'start': 62.729, 'duration': 4.871},\n",
              " {'text': 'and the home of the brave.', 'start': 67.6, 'duration': 7.608}]"
            ]
          },
          "metadata": {},
          "execution_count": 18
        }
      ]
    },
    {
      "cell_type": "code",
      "source": [
        "#@title Connect to the Stability API\n",
        "import datetime\n",
        "import getpass\n",
        "import json\n",
        "import os\n",
        "import panel as pn\n",
        "import param\n",
        "\n",
        "from base64 import b64encode\n",
        "from IPython import display\n",
        "from tqdm import tqdm\n",
        "from types import SimpleNamespace\n",
        "\n",
        "from stability_sdk.api import Context\n",
        "from stability_sdk.animation import AnimationArgs, Animator\n",
        "from stability_sdk.utils import create_video_from_frames\n",
        "\n",
        "# @markdown To get your API key visit https://dreamstudio.ai/account\n",
        "STABILITY_HOST = \"grpc.stability.ai:443\" #@param {type:\"string\"}\n",
        "STABILITY_KEY = getpass.getpass('Enter your API Key')\n",
        "\n",
        "# Connect to Stability API\n",
        "context = Context(STABILITY_HOST, STABILITY_KEY)\n",
        "\n",
        "# Test the connection\n",
        "context.get_user_info()\n",
        "print(\"Connection successful!\")"
      ],
      "metadata": {
        "id": "0Q7MEkMimZBf"
      },
      "execution_count": null,
      "outputs": []
    }
  ]
}