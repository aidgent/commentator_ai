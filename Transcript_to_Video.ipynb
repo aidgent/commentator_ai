{
  "nbformat": 4,
  "nbformat_minor": 0,
  "metadata": {
    "colab": {
      "provenance": [],
      "authorship_tag": "ABX9TyOrU3EW0CkP4saDc7v1Ht/V",
      "include_colab_link": true
    },
    "kernelspec": {
      "name": "python3",
      "display_name": "Python 3"
    },
    "language_info": {
      "name": "python"
    }
  },
  "cells": [
    {
      "cell_type": "markdown",
      "metadata": {
        "id": "view-in-github",
        "colab_type": "text"
      },
      "source": [
        "<a href=\"https://colab.research.google.com/github/jimwhite/commentator_ai/blob/main/Transcript_to_Video.ipynb\" target=\"_parent\"><img src=\"https://colab.research.google.com/assets/colab-badge.svg\" alt=\"Open In Colab\"/></a>"
      ]
    },
    {
      "cell_type": "markdown",
      "source": [
        "# Visualizer.TV: \"MP3 to MTV\" Demo\n",
        "\n",
        " * Concept: Robert Sloan (https://www.linkedin.com/in/sloanrobert/)\n",
        " * Code: Jim White (https://www.linkedin.com/in/jamespaulwhite/)\n",
        " * Demo Slides: [Google Slides in Drive link](https://docs.google.com/presentation/d/14mSrc1GOQhetNkOHjFkGLNNe-ZrbhPHIviC9Tj6VuHE/edit?usp=sharing)\n",
        " * License: GPL v3 (https://github.com/jimwhite/commentator_ai/blob/main/LICENSE)\n",
        "\n",
        "## Notes\n",
        "This implementation doesn't actually take MP3s like the title says.  The current approach is to provide a URL to a YouTube video with a transcript (i.e. closed captions).  \n",
        "\n",
        "This code should work using \"Run All\" (after you set a suitable YouTube URL below), there will be auth prompt for access to your Google Drive (for temporary files and the final video) and getpass prompting for your OpenAI and Stability API keys.  See notes in line for getting keys if you need pointers, they both include some free credits for new accounts.\n",
        "\n",
        "## TODO\n",
        " * Add animation (e.g. pan & zoom) effects.\n",
        " * Add transitions effects.  One approach is using Stability init_image to generate frame-by-frame animations that morph from one scene to the next.\n",
        " * Add review mode for image generation for easy way to accept/reject candidates.  Image generation is pretty hit or miss (with plenty of misses).  Right now if you want to replace an image you can remove the file from the folder in your drive and rerun the image generation step (because it doesn't regenerate images that already have a file with the matching description/name).\n",
        " * Support actually using MP3s and running STT on them to get the timed lyrics.  Although OpenAI Whisper API has timestamps the code we had didn't deliver them.  Google Speech and other APIs would work fine too.\n",
        " * Prompt refinements/experiments.\n",
        " * Buff up the error handling for:\n",
        "  * ChatGPT responses with bad CSV formatting.  LangChain is used here and I wanted to use tools and OpenAI Functions but that wound up not fitting in the time for the hackathon.\n",
        "  * Image descriptions that fail Stability filters.  Even seemingly innocuous words/phrases will fail and the current logic is to just skip those.  Retrying by asking ChatGPT to rephrase those descriptions is one possible solution."
      ],
      "metadata": {
        "id": "XTUZKqZgMb_E"
      }
    },
    {
      "cell_type": "code",
      "execution_count": 1,
      "metadata": {
        "id": "jMvpOZVDkrHG",
        "colab": {
          "base_uri": "https://localhost:8080/"
        },
        "outputId": "f108f5e1-ccb4-4ffc-a251-52485cd19f76"
      },
      "outputs": [
        {
          "output_type": "stream",
          "name": "stdout",
          "text": [
            "\u001b[2K     \u001b[90m━━━━━━━━━━━━━━━━━━━━━━━━━━━━━━━━━━━━━━━━\u001b[0m \u001b[32m83.8/83.8 kB\u001b[0m \u001b[31m3.0 MB/s\u001b[0m eta \u001b[36m0:00:00\u001b[0m\n",
            "\u001b[2K     \u001b[90m━━━━━━━━━━━━━━━━━━━━━━━━━━━━━━━━━━━━━━━━\u001b[0m \u001b[32m1.1/1.1 MB\u001b[0m \u001b[31m22.2 MB/s\u001b[0m eta \u001b[36m0:00:00\u001b[0m\n",
            "\u001b[2K     \u001b[90m━━━━━━━━━━━━━━━━━━━━━━━━━━━━━━━━━━━━━━━━\u001b[0m \u001b[32m73.6/73.6 kB\u001b[0m \u001b[31m6.9 MB/s\u001b[0m eta \u001b[36m0:00:00\u001b[0m\n",
            "\u001b[2K     \u001b[90m━━━━━━━━━━━━━━━━━━━━━━━━━━━━━━━━━━━━━━━━\u001b[0m \u001b[32m3.0/3.0 MB\u001b[0m \u001b[31m69.3 MB/s\u001b[0m eta \u001b[36m0:00:00\u001b[0m\n",
            "\u001b[2K     \u001b[90m━━━━━━━━━━━━━━━━━━━━━━━━━━━━━━━━━━━━━━━━\u001b[0m \u001b[32m5.0/5.0 MB\u001b[0m \u001b[31m94.1 MB/s\u001b[0m eta \u001b[36m0:00:00\u001b[0m\n",
            "\u001b[2K     \u001b[90m━━━━━━━━━━━━━━━━━━━━━━━━━━━━━━━━━━━━━━━━\u001b[0m \u001b[32m2.4/2.4 MB\u001b[0m \u001b[31m89.8 MB/s\u001b[0m eta \u001b[36m0:00:00\u001b[0m\n",
            "\u001b[2K     \u001b[90m━━━━━━━━━━━━━━━━━━━━━━━━━━━━━━━━━━━━━━\u001b[0m \u001b[32m409.8/409.8 kB\u001b[0m \u001b[31m34.5 MB/s\u001b[0m eta \u001b[36m0:00:00\u001b[0m\n",
            "\u001b[2K     \u001b[90m━━━━━━━━━━━━━━━━━━━━━━━━━━━━━━━━━━━━━━━━\u001b[0m \u001b[32m90.0/90.0 kB\u001b[0m \u001b[31m10.3 MB/s\u001b[0m eta \u001b[36m0:00:00\u001b[0m\n",
            "\u001b[2K     \u001b[90m━━━━━━━━━━━━━━━━━━━━━━━━━━━━━━━━━━━━━━\u001b[0m \u001b[32m193.6/193.6 kB\u001b[0m \u001b[31m16.4 MB/s\u001b[0m eta \u001b[36m0:00:00\u001b[0m\n",
            "\u001b[2K     \u001b[90m━━━━━━━━━━━━━━━━━━━━━━━━━━━━━━━━━━━━━━━━\u001b[0m \u001b[32m2.1/2.1 MB\u001b[0m \u001b[31m61.5 MB/s\u001b[0m eta \u001b[36m0:00:00\u001b[0m\n",
            "\u001b[2K     \u001b[90m━━━━━━━━━━━━━━━━━━━━━━━━━━━━━━━━━━━━━━━\u001b[0m \u001b[32m129.9/129.9 kB\u001b[0m \u001b[31m8.0 MB/s\u001b[0m eta \u001b[36m0:00:00\u001b[0m\n",
            "\u001b[2K     \u001b[90m━━━━━━━━━━━━━━━━━━━━━━━━━━━━━━━━━━━━━━━━\u001b[0m \u001b[32m2.7/2.7 MB\u001b[0m \u001b[31m56.2 MB/s\u001b[0m eta \u001b[36m0:00:00\u001b[0m\n",
            "\u001b[2K     \u001b[90m━━━━━━━━━━━━━━━━━━━━━━━━━━━━━━━━━━━━━━━━\u001b[0m \u001b[32m49.1/49.1 kB\u001b[0m \u001b[31m5.0 MB/s\u001b[0m eta \u001b[36m0:00:00\u001b[0m\n",
            "\u001b[?25h"
          ]
        }
      ],
      "source": [
        "#@title Install dependencies\n",
        "%pip install -qU stability-sdk youtube-transcript-api langchain openai opencv-python yt-dlp ffmpeg-python"
      ]
    },
    {
      "cell_type": "code",
      "source": [
        "#@title Set up Google Drive for file storage\n",
        "try:\n",
        "    from google.colab import drive\n",
        "    drive.mount('/content/gdrive')\n",
        "    outputs_path = \"/content/gdrive/MyDrive/Commentator_AI/Transcript_to_Video\"\n",
        "    !mkdir -p $outputs_path\n",
        "except:\n",
        "    outputs_path = \".\"\n",
        "print(f\"Files will be saved to {outputs_path}\")"
      ],
      "metadata": {
        "colab": {
          "base_uri": "https://localhost:8080/"
        },
        "cellView": "form",
        "id": "u5yM0kgilJhq",
        "outputId": "f8611f1d-60e2-4a0b-9957-3e70b9d7d6c2"
      },
      "execution_count": 2,
      "outputs": [
        {
          "output_type": "stream",
          "name": "stdout",
          "text": [
            "Mounted at /content/gdrive\n",
            "Files will be saved to /content/gdrive/MyDrive/Commentator_AI/Transcript_to_Video\n"
          ]
        }
      ]
    },
    {
      "cell_type": "code",
      "source": [
        "#@title Set YouTube URL\n",
        "\n",
        "YOUTUBE_URL = \"https://www.youtube.com/watch?v=vPKp29Luryc\" #@param {type:\"string\"}\n",
        "\n",
        "import os\n",
        "import re\n",
        "\n",
        "def ytIdFromURL(url:str)->str:\n",
        "   data = re.findall(r\"(?:v=|\\/)([0-9A-Za-z_-]{11}).*\", url)\n",
        "   if data:\n",
        "       return data[0]\n",
        "   return None\n",
        "\n",
        "video_id = ytIdFromURL(YOUTUBE_URL)\n",
        "\n",
        "if not video_id:\n",
        "  raise ValueError(\"video_id isn't set\")\n",
        "\n",
        "out_dir = os.path.join(outputs_path, video_id)\n",
        "\n",
        "print(f'YouTube ID: {video_id}')"
      ],
      "metadata": {
        "colab": {
          "base_uri": "https://localhost:8080/"
        },
        "id": "ftK_JYspmuh8",
        "outputId": "7d0a9d2c-6d05-423e-8cf5-2c29a5d4e82f"
      },
      "execution_count": 3,
      "outputs": [
        {
          "output_type": "stream",
          "name": "stdout",
          "text": [
            "YouTube ID: vPKp29Luryc\n"
          ]
        }
      ]
    },
    {
      "cell_type": "code",
      "source": [
        "#@title Get the Audio\n",
        "import os\n",
        "\n",
        "audio_file_path = os.path.join(out_dir, 'audio.m4a')\n",
        "\n",
        "if os.path.exists(audio_file_path):\n",
        "  print('Audio already downloaded')\n",
        "else:\n",
        "  !yt-dlp -f \"bestaudio[ext=m4a]\"  -o \"{audio_file_path}\" \"{YOUTUBE_URL}\""
      ],
      "metadata": {
        "colab": {
          "base_uri": "https://localhost:8080/"
        },
        "cellView": "form",
        "id": "m0I3sEpNsZED",
        "outputId": "a3f119e5-3c2f-4272-d20c-017621655565"
      },
      "execution_count": 4,
      "outputs": [
        {
          "output_type": "stream",
          "name": "stdout",
          "text": [
            "Audio already downloaded\n"
          ]
        }
      ]
    },
    {
      "cell_type": "code",
      "source": [
        "#@title Get Video Transcript (CSV)\n",
        "\n",
        "# Using CSV files is a convenient way to integrate with LangChain (and LangFlow).\n",
        "# Also is much more efficient in token usage so longer transcripts will work for\n",
        "# any given LLM context token limit.\n",
        "\n",
        "import csv\n",
        "from youtube_transcript_api import YouTubeTranscriptApi\n",
        "\n",
        "transcript = []\n",
        "\n",
        "transcript_file_path = os.path.join(out_dir, 'transcript.csv')\n",
        "fieldnames = ['start', 'duration', 'text']\n",
        "if os.path.exists(transcript_file_path):\n",
        "  with open(transcript_file_path, 'r') as csv_file:\n",
        "    reader = csv.DictReader(csv_file, fieldnames=fieldnames, quoting=csv.QUOTE_NONNUMERIC)\n",
        "    next(reader)  # skip header\n",
        "    for row in reader:\n",
        "      transcript.append(row)\n",
        "    print(f'Read transcript from file: {transcript_file_path}')\n",
        "\n",
        "if not transcript:\n",
        "  transcript = YouTubeTranscriptApi.get_transcript(video_id)\n",
        "  print('Got transcript from YouTube API')\n",
        "  os.makedirs(out_dir, exist_ok=True)\n",
        "  with open(transcript_file_path, 'w', newline='') as csv_file:\n",
        "    writer = csv.DictWriter(csv_file, fieldnames=fieldnames, quoting=csv.QUOTE_NONNUMERIC)\n",
        "    writer.writeheader()\n",
        "    for row in transcript:\n",
        "      writer.writerow(row)\n",
        "    print(f'Saved transcript to file: {transcript_file_path}')\n",
        "\n",
        "transcript"
      ],
      "metadata": {
        "colab": {
          "base_uri": "https://localhost:8080/"
        },
        "outputId": "60eacfe1-b566-4da2-b7df-d5ea19c99863",
        "id": "MOGyhWukzHUF",
        "cellView": "form"
      },
      "execution_count": 5,
      "outputs": [
        {
          "output_type": "stream",
          "name": "stdout",
          "text": [
            "Read transcript from file: /content/gdrive/MyDrive/Commentator_AI/Transcript_to_Video/vPKp29Luryc/transcript.csv\n"
          ]
        },
        {
          "output_type": "execute_result",
          "data": {
            "text/plain": [
              "[{'start': 7.407, 'duration': 4.071, 'text': 'O say can you see,'},\n",
              " {'start': 11.478, 'duration': 3.737, 'text': \"by the dawn's early light,\"},\n",
              " {'start': 15.215, 'duration': 3.837, 'text': 'What so proudly we hailed'},\n",
              " {'start': 19.052,\n",
              "  'duration': 3.937,\n",
              "  'text': \"at the twilight's last gleaming?\"},\n",
              " {'start': 22.989,\n",
              "  'duration': 3.937,\n",
              "  'text': 'Whose broad stripes and bright stars,'},\n",
              " {'start': 26.926, 'duration': 3.537, 'text': 'through the perilous fight,'},\n",
              " {'start': 30.463, 'duration': 3.737, 'text': \"O'er the ramparts we watched,\"},\n",
              " {'start': 34.2, 'duration': 4.071, 'text': 'were so gallantly streaming?'},\n",
              " {'start': 38.271, 'duration': 3.837, 'text': 'And the rockets red glare,'},\n",
              " {'start': 42.108, 'duration': 3.837, 'text': 'the bombs bursting in air,'},\n",
              " {'start': 45.945, 'duration': 3.737, 'text': 'Gave proof through the night'},\n",
              " {'start': 49.682,\n",
              "  'duration': 3.871,\n",
              "  'text': 'that our flag was still there.'},\n",
              " {'start': 53.553, 'duration': 2.603, 'text': 'O say does that'},\n",
              " {'start': 56.156, 'duration': 6.573, 'text': 'star spangled banner yet wave'},\n",
              " {'start': 62.729, 'duration': 4.871, 'text': \"O'er the land of the free,\"},\n",
              " {'start': 67.6, 'duration': 7.608, 'text': 'and the home of the brave.'}]"
            ]
          },
          "metadata": {},
          "execution_count": 5
        }
      ]
    },
    {
      "cell_type": "markdown",
      "source": [
        "**Instructions for getting an OpenAI API key:** [https://platform.openai.com/](https://platform.openai.com/)\n",
        "\n",
        "The key is only stored in the kernel running this notebook for you and used in the calls to OpenAI's service endpoint."
      ],
      "metadata": {
        "id": "6AadZS8-5qO3"
      }
    },
    {
      "cell_type": "code",
      "source": [
        "#@title Get OpenAI API key\n",
        "from getpass import getpass\n",
        "\n",
        "if not 'OPENAI_API_KEY' in os.environ:\n",
        "  key = getpass('Enter your OpenAI API key: ')\n",
        "  if key:\n",
        "    os.environ['OPENAI_API_KEY'] = key\n"
      ],
      "metadata": {
        "id": "DamCbUW1BKXx",
        "colab": {
          "base_uri": "https://localhost:8080/"
        },
        "outputId": "32ba1772-f02c-4dd2-cce9-6e6d358743e9"
      },
      "execution_count": 6,
      "outputs": [
        {
          "name": "stdout",
          "output_type": "stream",
          "text": [
            "Enter your OpenAI API key: ··········\n"
          ]
        }
      ]
    },
    {
      "cell_type": "markdown",
      "source": [
        "This is the ChatGPT prompt used to select which lyrics to generate images for and the image description to use for each.  It also generates an initial image (aka scene) that starts at 0 seconds that represents the theme of the whole song."
      ],
      "metadata": {
        "id": "pbh727qY6Q3O"
      }
    },
    {
      "cell_type": "code",
      "source": [
        "%%writefile prompt.txt\n",
        "You're a visual musical artist.\n",
        "Given the following lyrics choose the phrases that should be illustrated to make a timed music video for this song.\n",
        "Respond in CSV format with the columns\n",
        "'start', 'duration', 'text' (for the transcription text), 'description' (for the image description).\n",
        "For the first row start at time 0 and make an image description that reflects the songs theme.\n",
        "Keep in mind that each image description will be rendered separately so don't use any references between them.\n",
        "Also because the image rendering is done in isolation for each description please be sure to include\n",
        "enough thematic keys in them so the images are holistic related to the song's theme.\n",
        "=== lyrics ==="
      ],
      "metadata": {
        "colab": {
          "base_uri": "https://localhost:8080/"
        },
        "id": "nSmt9dceRasY",
        "outputId": "b9d16022-e0e3-4881-c025-79475e7f547e"
      },
      "execution_count": 7,
      "outputs": [
        {
          "output_type": "stream",
          "name": "stdout",
          "text": [
            "Writing prompt.txt\n"
          ]
        }
      ]
    },
    {
      "cell_type": "markdown",
      "source": [
        "If you don't have access to GPT-4 with your API key (if you're not sure you'll get an error message to that effect) then change the CHAT_MODEL to `gpt-3.5-turbo-0613`.  You might want to use 3.5 in any case because it is a lot cheaper (pricing is per token)."
      ],
      "metadata": {
        "id": "HJ6hih5N6wLc"
      }
    },
    {
      "cell_type": "code",
      "source": [
        "#@title ChatGPT selects lyrics to illustrate and generates image descriptions\n",
        "\n",
        "CHAT_MODEL = 'gpt-4-0613'  #@param {type:\"string\"}\n",
        "TEMPERATURE = 0.5  #@param {type:\"number\"}\n",
        "\n",
        "from langchain.chat_models import ChatOpenAI\n",
        "from langchain.schema import HumanMessage, SystemMessage\n",
        "\n",
        "image_description_csv_text = None\n",
        "out_dir = os.path.join(outputs_path, video_id)\n",
        "image_description_file_path = os.path.join(out_dir, 'image_descriptions.csv')\n",
        "fieldnames = ['start', 'duration', 'text', 'description']\n",
        "if os.path.exists(image_description_file_path):\n",
        "  with open(image_description_file_path, 'r') as csv_file:\n",
        "    image_description_csv_text = csv_file.read()\n",
        "    print(f'Read image descriptions from file: {image_description_file_path}')\n",
        "    print(image_description_csv_text)\n",
        "\n",
        "if not image_description_csv_text:\n",
        "  chat = ChatOpenAI(temperature=TEMPERATURE, model=CHAT_MODEL)\n",
        "  print('ChatGPT working...')\n",
        "  prompt_text = ''\n",
        "  with open('prompt.txt', 'r') as f:\n",
        "    prompt_text = f.read()\n",
        "  with open(transcript_file_path, 'r') as csv_file:\n",
        "    prompt_text = '\\n\\n'.join([prompt_text, csv_file.read()])\n",
        "  response = chat([HumanMessage(content=prompt_text)])\n",
        "  print('Got image descriptions from ChatGPT')\n",
        "  image_description_csv_text = response.content\n",
        "  print(image_description_csv_text)\n",
        "  os.makedirs(out_dir, exist_ok=True)\n",
        "  with open(image_description_file_path, 'w', newline='') as csv_file:\n",
        "    csv_file.write(response.content)\n",
        "    print(f'Saved image descriptions to file: {image_description_file_path}')\n"
      ],
      "metadata": {
        "colab": {
          "base_uri": "https://localhost:8080/"
        },
        "id": "6e-QQ9Xtetw0",
        "outputId": "231ef075-bf57-4540-cbf5-640dbde0672a",
        "cellView": "form"
      },
      "execution_count": 8,
      "outputs": [
        {
          "output_type": "stream",
          "name": "stdout",
          "text": [
            "Read image descriptions from file: /content/gdrive/MyDrive/Commentator_AI/Transcript_to_Video/vPKp29Luryc/image_descriptions.csv\n",
            "\"start\",\"duration\",\"text\",\"description\"\n",
            "0,7.407,\"\",\"A patriotic scene with an American flag waving in the wind, set against a backdrop of a beautiful dawn sky.\"\n",
            "7.407,4.071,\"O say can you see,\",\"A person standing on a hill, looking out over a vast landscape, with the dawn light illuminating the scene.\"\n",
            "11.478,3.737,\"by the dawn's early light,\",\"The first light of dawn breaking over the horizon, casting a warm glow on the American flag.\"\n",
            "15.215,3.837,\"What so proudly we hailed\",\"A group of people saluting the American flag, their faces filled with pride.\"\n",
            "19.052,3.937,\"at the twilight's last gleaming?\",\"The last light of twilight reflecting off the American flag, creating a gleaming effect.\"\n",
            "22.989,3.937,\"Whose broad stripes and bright stars,\",\"Close-up view of the American flag, focusing on the broad stripes and bright stars.\"\n",
            "26.926,3.537,\"through the perilous fight,\",\"Soldiers bravely fighting in a battle, with the American flag flying high in the background.\"\n",
            "30.463,3.737,\"O'er the ramparts we watched,\",\"People watching from the ramparts of a fort, their eyes fixed on the American flag.\"\n",
            "34.2,4.071,\"were so gallantly streaming?\",\"The American flag streaming gallantly in the wind, standing out against the darkening sky.\"\n",
            "38.271,3.837,\"And the rockets red glare,\",\"Rockets launching into the sky, their red glare illuminating the American flag.\"\n",
            "42.108,3.837,\"the bombs bursting in air,\",\"Explosions lighting up the night sky, with the silhouette of the American flag visible in the foreground.\"\n",
            "45.945,3.737,\"Gave proof through the night\",\"The American flag still standing tall amidst the chaos of the battle, visible in the light of the explosions.\"\n",
            "49.682,3.871,\"that our flag was still there.\",\"The dawn light revealing the American flag still standing, a symbol of resilience and hope.\"\n",
            "53.553,2.603,\"O say does that\",\"A person looking out over the landscape, their gaze fixed on the American flag.\"\n",
            "56.156,6.573,\"star spangled banner yet wave\",\"The American flag waving proudly in the wind, the stars and stripes standing out against the brightening sky.\"\n",
            "62.729,4.871,\"O'er the land of the free,\",\"A panoramic view of the American landscape, from towering mountains to vast plains, with the American flag flying high.\"\n",
            "67.6,7.608,\"and the home of the brave.\",\"A group of diverse people standing together, their faces filled with determination and bravery, with the American flag in the background.\"\n"
          ]
        }
      ]
    },
    {
      "cell_type": "markdown",
      "source": [
        "**Instructions for getting a Stability AI API key:** [https://platform.stability.ai/docs/getting-started](https://platform.stability.ai/docs/getting-started)\n",
        "\n",
        "The key is only stored in the kernel running this notebook for you and used in the calls to Stability's service endpoint."
      ],
      "metadata": {
        "id": "q4c7q5Df41oM"
      }
    },
    {
      "cell_type": "code",
      "source": [
        "#@title Connect to the Stability API\n",
        "\n",
        "IMAGE_MODEL='stable-diffusion-xl-beta-v2-2-2' #@param {type:\"string\"}\n",
        "\n",
        "import io\n",
        "import os\n",
        "import warnings\n",
        "\n",
        "from IPython.display import display\n",
        "from PIL import Image\n",
        "from stability_sdk import client\n",
        "import stability_sdk.interfaces.gooseai.generation.generation_pb2 as generation\n",
        "\n",
        "if not 'STABILITY_KEY' in os.environ:\n",
        "  key = getpass('Enter your Stability API key: ')\n",
        "  if key:\n",
        "    os.environ['STABILITY_KEY'] = key\n",
        "\n",
        "stability_api = client.StabilityInference(\n",
        "    key=os.environ['STABILITY_KEY'],\n",
        "    engine=IMAGE_MODEL, verbose=True,\n",
        ")"
      ],
      "metadata": {
        "colab": {
          "base_uri": "https://localhost:8080/"
        },
        "id": "0Q7MEkMimZBf",
        "outputId": "741984ea-4f88-4c50-a5b3-eb4d8cbb64bc"
      },
      "execution_count": 9,
      "outputs": [
        {
          "name": "stdout",
          "output_type": "stream",
          "text": [
            "Enter your Stability API key: ··········\n"
          ]
        },
        {
          "output_type": "stream",
          "name": "stderr",
          "text": [
            "INFO:stability_sdk.client:Opening channel to grpc.stability.ai:443\n",
            "INFO:stability_sdk.client:Channel opened to grpc.stability.ai:443\n"
          ]
        }
      ]
    },
    {
      "cell_type": "markdown",
      "source": [
        "The image generation may fail for various reasons.  One is that the Stability API has a very strict filter to guard against generating any kind of inappropriate content.  In those cases the image should get skipped and the process continue.  Also sometimes the CSV format that ChatGPT outputs isn't formatted perfectly.  Again those rows should get skipped and the process continue.\n",
        "\n",
        "One way to try and fix those issues is to rerun the image description step.  Because this code caches each computed result in your Google Drive you'll need to remove the image description file first {{image_description_file_path}}."
      ],
      "metadata": {
        "id": "XrDFNWxP7YxA"
      }
    },
    {
      "cell_type": "code",
      "source": [
        "image_description_file_path"
      ],
      "metadata": {
        "colab": {
          "base_uri": "https://localhost:8080/",
          "height": 36
        },
        "id": "L5EnGcOu9OpM",
        "outputId": "1bac27fb-f8dc-4efa-ee0b-11dcd3dbca73"
      },
      "execution_count": 10,
      "outputs": [
        {
          "output_type": "execute_result",
          "data": {
            "text/plain": [
              "'/content/gdrive/MyDrive/Commentator_AI/Transcript_to_Video/vPKp29Luryc/image_descriptions.csv'"
            ],
            "application/vnd.google.colaboratory.intrinsic+json": {
              "type": "string"
            }
          },
          "metadata": {},
          "execution_count": 10
        }
      ]
    },
    {
      "cell_type": "code",
      "source": [
        "#@title Generate Images using Stable Diffusion\n",
        "\n",
        "IMAGE_WIDTH=896 #@param {type:\"number\"}\n",
        "IMAGE_HEIGHT=512 #@param {type:\"number\"}\n",
        "IMAGE_GEN_STEPS=22 #@param {type:\"number\"}\n",
        "\n",
        "def generate_image(prompt: str):\n",
        "  # the object returned is a python generator\n",
        "  answers = stability_api.generate(\n",
        "      prompt=prompt,\n",
        "      width=IMAGE_WIDTH, height=IMAGE_HEIGHT, steps=IMAGE_GEN_STEPS\n",
        "  )\n",
        "\n",
        "  # iterating over the generator produces the api response\n",
        "  for resp in answers:\n",
        "      for artifact in resp.artifacts:\n",
        "          if artifact.finish_reason == generation.FILTER:\n",
        "              warnings.warn(\n",
        "                  \"Your request activated the API's safety filters and could not be processed.\"\n",
        "                  \"Please modify the prompt and try again.\")\n",
        "          if artifact.type == generation.ARTIFACT_IMAGE:\n",
        "              img = Image.open(io.BytesIO(artifact.binary))\n",
        "              return img\n",
        "\n",
        "  print(f\"No image for '{prompt}'\")\n",
        "  return None\n",
        "\n",
        "\n",
        "def description_to_filepath(description:str):\n",
        "  filename = re.sub(r'[^\\w\\d-]','_', description).lower()\n",
        "  return os.path.join(out_dir, filename + '.png')\n",
        "\n",
        "\n",
        "with open(image_description_file_path, 'r') as csv_file:\n",
        "  reader = csv.DictReader(csv_file, quoting=csv.QUOTE_NONNUMERIC)\n",
        "  for row in reader:\n",
        "    print(row)\n",
        "    description = row['description']\n",
        "    image_file_path = description_to_filepath(description)\n",
        "    if os.path.exists(image_file_path):\n",
        "      print(f\"Skipping description that has an image: {description}\")\n",
        "      # image = Image.open(image_file_path)\n",
        "      # display(image)\n",
        "    else:\n",
        "      print(f\"Generating image for {description}\")\n",
        "      try:\n",
        "        image = generate_image(description)\n",
        "        image.save(image_file_path)\n",
        "        display(image)\n",
        "      except:\n",
        "        print(\"Failed filters, got error\")\n"
      ],
      "metadata": {
        "colab": {
          "base_uri": "https://localhost:8080/"
        },
        "id": "uaDN5mpsmJy0",
        "outputId": "fede42a9-0382-4824-9c70-9a5375ba6714"
      },
      "execution_count": 11,
      "outputs": [
        {
          "output_type": "stream",
          "name": "stdout",
          "text": [
            "{'start': 0.0, 'duration': 7.407, 'text': '', 'description': 'A patriotic scene with an American flag waving in the wind, set against a backdrop of a beautiful dawn sky.'}\n",
            "Skipping description that has an image: A patriotic scene with an American flag waving in the wind, set against a backdrop of a beautiful dawn sky.\n",
            "{'start': 7.407, 'duration': 4.071, 'text': 'O say can you see,', 'description': 'A person standing on a hill, looking out over a vast landscape, with the dawn light illuminating the scene.'}\n",
            "Skipping description that has an image: A person standing on a hill, looking out over a vast landscape, with the dawn light illuminating the scene.\n",
            "{'start': 11.478, 'duration': 3.737, 'text': \"by the dawn's early light,\", 'description': 'The first light of dawn breaking over the horizon, casting a warm glow on the American flag.'}\n",
            "Skipping description that has an image: The first light of dawn breaking over the horizon, casting a warm glow on the American flag.\n",
            "{'start': 15.215, 'duration': 3.837, 'text': 'What so proudly we hailed', 'description': 'A group of people saluting the American flag, their faces filled with pride.'}\n",
            "Skipping description that has an image: A group of people saluting the American flag, their faces filled with pride.\n",
            "{'start': 19.052, 'duration': 3.937, 'text': \"at the twilight's last gleaming?\", 'description': 'The last light of twilight reflecting off the American flag, creating a gleaming effect.'}\n",
            "Skipping description that has an image: The last light of twilight reflecting off the American flag, creating a gleaming effect.\n",
            "{'start': 22.989, 'duration': 3.937, 'text': 'Whose broad stripes and bright stars,', 'description': 'Close-up view of the American flag, focusing on the broad stripes and bright stars.'}\n",
            "Skipping description that has an image: Close-up view of the American flag, focusing on the broad stripes and bright stars.\n",
            "{'start': 26.926, 'duration': 3.537, 'text': 'through the perilous fight,', 'description': 'Soldiers bravely fighting in a battle, with the American flag flying high in the background.'}\n",
            "Skipping description that has an image: Soldiers bravely fighting in a battle, with the American flag flying high in the background.\n",
            "{'start': 30.463, 'duration': 3.737, 'text': \"O'er the ramparts we watched,\", 'description': 'People watching from the ramparts of a fort, their eyes fixed on the American flag.'}\n",
            "Skipping description that has an image: People watching from the ramparts of a fort, their eyes fixed on the American flag.\n",
            "{'start': 34.2, 'duration': 4.071, 'text': 'were so gallantly streaming?', 'description': 'The American flag streaming gallantly in the wind, standing out against the darkening sky.'}\n",
            "Skipping description that has an image: The American flag streaming gallantly in the wind, standing out against the darkening sky.\n",
            "{'start': 38.271, 'duration': 3.837, 'text': 'And the rockets red glare,', 'description': 'Rockets launching into the sky, their red glare illuminating the American flag.'}\n",
            "Skipping description that has an image: Rockets launching into the sky, their red glare illuminating the American flag.\n",
            "{'start': 42.108, 'duration': 3.837, 'text': 'the bombs bursting in air,', 'description': 'Explosions lighting up the night sky, with the silhouette of the American flag visible in the foreground.'}\n",
            "Skipping description that has an image: Explosions lighting up the night sky, with the silhouette of the American flag visible in the foreground.\n",
            "{'start': 45.945, 'duration': 3.737, 'text': 'Gave proof through the night', 'description': 'The American flag still standing tall amidst the chaos of the battle, visible in the light of the explosions.'}\n",
            "Skipping description that has an image: The American flag still standing tall amidst the chaos of the battle, visible in the light of the explosions.\n",
            "{'start': 49.682, 'duration': 3.871, 'text': 'that our flag was still there.', 'description': 'The dawn light revealing the American flag still standing, a symbol of resilience and hope.'}\n",
            "Skipping description that has an image: The dawn light revealing the American flag still standing, a symbol of resilience and hope.\n",
            "{'start': 53.553, 'duration': 2.603, 'text': 'O say does that', 'description': 'A person looking out over the landscape, their gaze fixed on the American flag.'}\n",
            "Skipping description that has an image: A person looking out over the landscape, their gaze fixed on the American flag.\n",
            "{'start': 56.156, 'duration': 6.573, 'text': 'star spangled banner yet wave', 'description': 'The American flag waving proudly in the wind, the stars and stripes standing out against the brightening sky.'}\n",
            "Skipping description that has an image: The American flag waving proudly in the wind, the stars and stripes standing out against the brightening sky.\n",
            "{'start': 62.729, 'duration': 4.871, 'text': \"O'er the land of the free,\", 'description': 'A panoramic view of the American landscape, from towering mountains to vast plains, with the American flag flying high.'}\n",
            "Skipping description that has an image: A panoramic view of the American landscape, from towering mountains to vast plains, with the American flag flying high.\n",
            "{'start': 67.6, 'duration': 7.608, 'text': 'and the home of the brave.', 'description': 'A group of diverse people standing together, their faces filled with determination and bravery, with the American flag in the background.'}\n",
            "Skipping description that has an image: A group of diverse people standing together, their faces filled with determination and bravery, with the American flag in the background.\n"
          ]
        }
      ]
    },
    {
      "cell_type": "code",
      "source": [
        "#@title Generate Video using OpenCV\n",
        "\n",
        "import cv2\n",
        "\n",
        "video_path = os.path.join(out_dir, 'video.mp4')\n",
        "\n",
        "video_width = IMAGE_WIDTH\n",
        "video_height = IMAGE_HEIGHT\n",
        "print(video_width, ', ', video_height)\n",
        "\n",
        "fps = 24.0\n",
        "\n",
        "max_frame_count_limit = int(100 * fps)\n",
        "\n",
        "total_frame_count = 0\n",
        "\n",
        "def write_frames(image:Image, limit_seconds:float):\n",
        "  global total_frame_count\n",
        "  frame_count_limit = int(limit_seconds * fps)\n",
        "  print(f\"Adding {frame_count_limit - total_frame_count} frames for '{last_row['description']}'\")\n",
        "  if ((frame_count_limit - total_frame_count) > max_frame_count_limit):\n",
        "    frame_count_limit = total_frame_count + max_frame_count_limit\n",
        "    print('Frame count too high.  Reduced to ', frame_count_limit - total_frame_count)\n",
        "  while total_frame_count < frame_count_limit:\n",
        "    video.write(image)\n",
        "    total_frame_count += 1\n",
        "\n",
        "try:\n",
        "  fourcc = cv2.VideoWriter_fourcc('F','M','P','4')\n",
        "  video = cv2.VideoWriter(video_path, fourcc, fps, (video_width, video_height))\n",
        "  with open(image_description_file_path, 'r') as csv_file:\n",
        "    reader = csv.DictReader(csv_file, quoting=csv.QUOTE_NONNUMERIC)\n",
        "\n",
        "    # The image for frames we add are from the previous scene row.\n",
        "    last_row = None\n",
        "    last_image = None\n",
        "    for row in reader:\n",
        "      if last_image is not None:\n",
        "        write_frames(image=last_image, limit_seconds=row['start'])\n",
        "      print(row)\n",
        "      description = row['description']\n",
        "      image_file_path = description_to_filepath(description)\n",
        "      if not os.path.exists(image_file_path):\n",
        "        print(f\"Missing image file: {image_file_path}\")\n",
        "        continue\n",
        "      last_row = row\n",
        "      last_image = cv2.imread(image_file_path)\n",
        "    if last_image is not None:\n",
        "      write_frames(image=last_image, limit_seconds=last_row['start'] + last_row['duration'])\n",
        "\n",
        "finally:\n",
        "  print('finalizing')\n",
        "  cv2.destroyAllWindows()\n",
        "  video.release()\n",
        "\n",
        "print(f'Done! Wrote {total_frame_count} frames ({total_frame_count / fps} seconds) to {video_path}')"
      ],
      "metadata": {
        "colab": {
          "base_uri": "https://localhost:8080/"
        },
        "id": "NjzRH1rZTL_q",
        "outputId": "630a0c9d-c634-4d7e-ba8c-57c8fdb6dcfc",
        "cellView": "form"
      },
      "execution_count": 12,
      "outputs": [
        {
          "output_type": "stream",
          "name": "stdout",
          "text": [
            "896 ,  512\n",
            "{'start': 0.0, 'duration': 7.407, 'text': '', 'description': 'A patriotic scene with an American flag waving in the wind, set against a backdrop of a beautiful dawn sky.'}\n",
            "Adding 177 frames for 'A patriotic scene with an American flag waving in the wind, set against a backdrop of a beautiful dawn sky.'\n",
            "{'start': 7.407, 'duration': 4.071, 'text': 'O say can you see,', 'description': 'A person standing on a hill, looking out over a vast landscape, with the dawn light illuminating the scene.'}\n",
            "Adding 98 frames for 'A person standing on a hill, looking out over a vast landscape, with the dawn light illuminating the scene.'\n",
            "{'start': 11.478, 'duration': 3.737, 'text': \"by the dawn's early light,\", 'description': 'The first light of dawn breaking over the horizon, casting a warm glow on the American flag.'}\n",
            "Adding 90 frames for 'The first light of dawn breaking over the horizon, casting a warm glow on the American flag.'\n",
            "{'start': 15.215, 'duration': 3.837, 'text': 'What so proudly we hailed', 'description': 'A group of people saluting the American flag, their faces filled with pride.'}\n",
            "Adding 92 frames for 'A group of people saluting the American flag, their faces filled with pride.'\n",
            "{'start': 19.052, 'duration': 3.937, 'text': \"at the twilight's last gleaming?\", 'description': 'The last light of twilight reflecting off the American flag, creating a gleaming effect.'}\n",
            "Adding 94 frames for 'The last light of twilight reflecting off the American flag, creating a gleaming effect.'\n",
            "{'start': 22.989, 'duration': 3.937, 'text': 'Whose broad stripes and bright stars,', 'description': 'Close-up view of the American flag, focusing on the broad stripes and bright stars.'}\n",
            "Adding 95 frames for 'Close-up view of the American flag, focusing on the broad stripes and bright stars.'\n",
            "{'start': 26.926, 'duration': 3.537, 'text': 'through the perilous fight,', 'description': 'Soldiers bravely fighting in a battle, with the American flag flying high in the background.'}\n",
            "Adding 85 frames for 'Soldiers bravely fighting in a battle, with the American flag flying high in the background.'\n",
            "{'start': 30.463, 'duration': 3.737, 'text': \"O'er the ramparts we watched,\", 'description': 'People watching from the ramparts of a fort, their eyes fixed on the American flag.'}\n",
            "Adding 89 frames for 'People watching from the ramparts of a fort, their eyes fixed on the American flag.'\n",
            "{'start': 34.2, 'duration': 4.071, 'text': 'were so gallantly streaming?', 'description': 'The American flag streaming gallantly in the wind, standing out against the darkening sky.'}\n",
            "Adding 98 frames for 'The American flag streaming gallantly in the wind, standing out against the darkening sky.'\n",
            "{'start': 38.271, 'duration': 3.837, 'text': 'And the rockets red glare,', 'description': 'Rockets launching into the sky, their red glare illuminating the American flag.'}\n",
            "Adding 92 frames for 'Rockets launching into the sky, their red glare illuminating the American flag.'\n",
            "{'start': 42.108, 'duration': 3.837, 'text': 'the bombs bursting in air,', 'description': 'Explosions lighting up the night sky, with the silhouette of the American flag visible in the foreground.'}\n",
            "Adding 92 frames for 'Explosions lighting up the night sky, with the silhouette of the American flag visible in the foreground.'\n",
            "{'start': 45.945, 'duration': 3.737, 'text': 'Gave proof through the night', 'description': 'The American flag still standing tall amidst the chaos of the battle, visible in the light of the explosions.'}\n",
            "Adding 90 frames for 'The American flag still standing tall amidst the chaos of the battle, visible in the light of the explosions.'\n",
            "{'start': 49.682, 'duration': 3.871, 'text': 'that our flag was still there.', 'description': 'The dawn light revealing the American flag still standing, a symbol of resilience and hope.'}\n",
            "Adding 93 frames for 'The dawn light revealing the American flag still standing, a symbol of resilience and hope.'\n",
            "{'start': 53.553, 'duration': 2.603, 'text': 'O say does that', 'description': 'A person looking out over the landscape, their gaze fixed on the American flag.'}\n",
            "Adding 62 frames for 'A person looking out over the landscape, their gaze fixed on the American flag.'\n",
            "{'start': 56.156, 'duration': 6.573, 'text': 'star spangled banner yet wave', 'description': 'The American flag waving proudly in the wind, the stars and stripes standing out against the brightening sky.'}\n",
            "Adding 158 frames for 'The American flag waving proudly in the wind, the stars and stripes standing out against the brightening sky.'\n",
            "{'start': 62.729, 'duration': 4.871, 'text': \"O'er the land of the free,\", 'description': 'A panoramic view of the American landscape, from towering mountains to vast plains, with the American flag flying high.'}\n",
            "Adding 117 frames for 'A panoramic view of the American landscape, from towering mountains to vast plains, with the American flag flying high.'\n",
            "{'start': 67.6, 'duration': 7.608, 'text': 'and the home of the brave.', 'description': 'A group of diverse people standing together, their faces filled with determination and bravery, with the American flag in the background.'}\n",
            "Adding 182 frames for 'A group of diverse people standing together, their faces filled with determination and bravery, with the American flag in the background.'\n",
            "finalizing\n",
            "Done! Wrote 1804 frames (75.16666666666667 seconds) to /content/gdrive/MyDrive/Commentator_AI/Transcript_to_Video/vPKp29Luryc/video.mp4\n"
          ]
        }
      ]
    },
    {
      "cell_type": "code",
      "source": [
        "#@title Merge Audio with Video using ffmpeg-python\n",
        "import ffmpeg\n",
        "\n",
        "video_with_audio_path = os.path.join(out_dir, 'video_with_audio.mp4')\n",
        "\n",
        "if os.path.exists(video_with_audio_path):\n",
        "  print('video with audio already exists: ', video_with_audio_path)\n",
        "else:\n",
        "  video_in = ffmpeg.input(video_path)\n",
        "  audio_in = ffmpeg.input(audio_file_path)\n",
        "  print('concatenating with ffmpeg')\n",
        "  try:\n",
        "    result = ffmpeg.concat(video_in, audio_in, v=1, a=1).output(video_with_audio_path).run()\n",
        "    print('Done merging')\n",
        "  except:\n",
        "    print('Merge failed!')"
      ],
      "metadata": {
        "colab": {
          "base_uri": "https://localhost:8080/"
        },
        "id": "NiaCESjJty_1",
        "outputId": "3fc0467b-886f-4308-ece0-a77268a2aa36",
        "cellView": "form"
      },
      "execution_count": 13,
      "outputs": [
        {
          "output_type": "stream",
          "name": "stdout",
          "text": [
            "video with audio already exists:  /content/gdrive/MyDrive/Commentator_AI/Transcript_to_Video/vPKp29Luryc/video_with_audio.mp4\n"
          ]
        }
      ]
    },
    {
      "cell_type": "code",
      "source": [
        "video_with_audio_path"
      ],
      "metadata": {
        "colab": {
          "base_uri": "https://localhost:8080/",
          "height": 36
        },
        "id": "VPmaUAYclEDm",
        "outputId": "65c7f445-6c62-4426-ea97-516aa3d73269"
      },
      "execution_count": 14,
      "outputs": [
        {
          "output_type": "execute_result",
          "data": {
            "text/plain": [
              "'/content/gdrive/MyDrive/Commentator_AI/Transcript_to_Video/vPKp29Luryc/video_with_audio.mp4'"
            ],
            "application/vnd.google.colaboratory.intrinsic+json": {
              "type": "string"
            }
          },
          "metadata": {},
          "execution_count": 14
        }
      ]
    }
  ]
}