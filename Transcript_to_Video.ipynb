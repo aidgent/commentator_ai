{
  "nbformat": 4,
  "nbformat_minor": 0,
  "metadata": {
    "colab": {
      "provenance": [],
      "authorship_tag": "ABX9TyM6W1gwhkOLBOkENUZQROYB",
      "include_colab_link": true
    },
    "kernelspec": {
      "name": "python3",
      "display_name": "Python 3"
    },
    "language_info": {
      "name": "python"
    }
  },
  "cells": [
    {
      "cell_type": "markdown",
      "metadata": {
        "id": "view-in-github",
        "colab_type": "text"
      },
      "source": [
        "<a href=\"https://colab.research.google.com/github/jimwhite/commentator_ai/blob/main/Transcript_to_Video.ipynb\" target=\"_parent\"><img src=\"https://colab.research.google.com/assets/colab-badge.svg\" alt=\"Open In Colab\"/></a>"
      ]
    },
    {
      "cell_type": "code",
      "execution_count": 38,
      "metadata": {
        "colab": {
          "base_uri": "https://localhost:8080/"
        },
        "id": "jMvpOZVDkrHG",
        "outputId": "91f339a7-3b0f-4e1b-f609-9849a9996ade"
      },
      "outputs": [
        {
          "output_type": "stream",
          "name": "stdout",
          "text": [
            "\u001b[?25l     \u001b[90m━━━━━━━━━━━━━━━━━━━━━━━━━━━━━━━━━━━━━━━━\u001b[0m \u001b[32m0.0/73.6 kB\u001b[0m \u001b[31m?\u001b[0m eta \u001b[36m-:--:--\u001b[0m\r\u001b[2K     \u001b[90m━━━━━━━━━━━━━━━━━━━━━━━━━━━━━━━━━━━━━━━━\u001b[0m \u001b[32m73.6/73.6 kB\u001b[0m \u001b[31m3.2 MB/s\u001b[0m eta \u001b[36m0:00:00\u001b[0m\n",
            "\u001b[?25h"
          ]
        }
      ],
      "source": [
        "%pip install -q stability-sdk youtube-transcript-api langchain openai"
      ]
    },
    {
      "cell_type": "code",
      "source": [
        "#@title Set up Google Drive for file storage\n",
        "try:\n",
        "    from google.colab import drive\n",
        "    drive.mount('/content/gdrive')\n",
        "    outputs_path = \"/content/gdrive/MyDrive/Commentator_AI/Transcript_to_Video\"\n",
        "    !mkdir -p $outputs_path\n",
        "except:\n",
        "    outputs_path = \".\"\n",
        "print(f\"Files will be saved to {outputs_path}\")"
      ],
      "metadata": {
        "colab": {
          "base_uri": "https://localhost:8080/"
        },
        "cellView": "form",
        "id": "u5yM0kgilJhq",
        "outputId": "fa76948a-b35b-4da4-9726-bd049094e699"
      },
      "execution_count": 2,
      "outputs": [
        {
          "output_type": "stream",
          "name": "stdout",
          "text": [
            "Mounted at /content/gdrive\n",
            "Files will be saved to /content/gdrive/MyDrive/Commentator_AI/Transcript_to_Video\n"
          ]
        }
      ]
    },
    {
      "cell_type": "code",
      "source": [
        "#@title Set YouTube URL\n",
        "import re\n",
        "def ytIdFromURL(url:str)->str:\n",
        "   data = re.findall(r\"(?:v=|\\/)([0-9A-Za-z_-]{11}).*\", url)\n",
        "   if data:\n",
        "       return data[0]\n",
        "   return None\n",
        "\n",
        "YOUTUBE_URL = \"https://www.youtube.com/watch?v=vPKp29Luryc\" #@param {type:\"string\"}\n",
        "video_id = ytIdFromURL(YOUTUBE_URL)\n",
        "print(f'YouTube video ID = {video_id}')"
      ],
      "metadata": {
        "colab": {
          "base_uri": "https://localhost:8080/"
        },
        "id": "ftK_JYspmuh8",
        "outputId": "8bd5181b-1154-4d4d-a335-b15b1a3e9ecb"
      },
      "execution_count": 12,
      "outputs": [
        {
          "output_type": "stream",
          "name": "stdout",
          "text": [
            "YouTube video ID = vPKp29Luryc\n"
          ]
        }
      ]
    },
    {
      "cell_type": "code",
      "source": [
        "#@title Get Video Transcript (JSON)\n",
        "import json\n",
        "import os\n",
        "from youtube_transcript_api import YouTubeTranscriptApi\n",
        "\n",
        "if not video_id:\n",
        "  raise ValueError(\"video_id isn't set\")\n",
        "\n",
        "transcript = None\n",
        "out_dir = os.path.join(outputs_path, video_id)\n",
        "transcript_file_path = os.path.join(out_dir, 'transcript.json')\n",
        "if os.path.exists(transcript_file_path):\n",
        "  with open(transcript_file_path, 'r') as json_file:\n",
        "    transcript = json.load(json_file)\n",
        "    print(f'Read transcript from file: {transcript_file_path}')\n",
        "\n",
        "if not transcript:\n",
        "  transcript = YouTubeTranscriptApi.get_transcript(video_id)\n",
        "  print('Got transcript from YouTube API')\n",
        "  os.makedirs(out_dir, exist_ok=True)\n",
        "  with open(transcript_file_path, 'w') as json_file:\n",
        "    json.dump(transcript, json_file)\n",
        "    print(f'Saved transcript to file: {transcript_file_path}')\n",
        "\n",
        "transcript"
      ],
      "metadata": {
        "colab": {
          "base_uri": "https://localhost:8080/"
        },
        "cellView": "form",
        "id": "f1B7pIN9lw9Y",
        "outputId": "71165ada-f42f-4fae-eec1-17905555b6a8"
      },
      "execution_count": 19,
      "outputs": [
        {
          "output_type": "stream",
          "name": "stdout",
          "text": [
            "Read transcript from file: /content/gdrive/MyDrive/Commentator_AI/Transcript_to_Video/vPKp29Luryc/transcript.json\n"
          ]
        },
        {
          "output_type": "execute_result",
          "data": {
            "text/plain": [
              "[{'text': 'O say can you see,', 'start': 7.407, 'duration': 4.071},\n",
              " {'text': \"by the dawn's early light,\", 'start': 11.478, 'duration': 3.737},\n",
              " {'text': 'What so proudly we hailed', 'start': 15.215, 'duration': 3.837},\n",
              " {'text': \"at the twilight's last gleaming?\",\n",
              "  'start': 19.052,\n",
              "  'duration': 3.937},\n",
              " {'text': 'Whose broad stripes and bright stars,',\n",
              "  'start': 22.989,\n",
              "  'duration': 3.937},\n",
              " {'text': 'through the perilous fight,', 'start': 26.926, 'duration': 3.537},\n",
              " {'text': \"O'er the ramparts we watched,\", 'start': 30.463, 'duration': 3.737},\n",
              " {'text': 'were so gallantly streaming?', 'start': 34.2, 'duration': 4.071},\n",
              " {'text': 'And the rockets red glare,', 'start': 38.271, 'duration': 3.837},\n",
              " {'text': 'the bombs bursting in air,', 'start': 42.108, 'duration': 3.837},\n",
              " {'text': 'Gave proof through the night', 'start': 45.945, 'duration': 3.737},\n",
              " {'text': 'that our flag was still there.',\n",
              "  'start': 49.682,\n",
              "  'duration': 3.871},\n",
              " {'text': 'O say does that', 'start': 53.553, 'duration': 2.603},\n",
              " {'text': 'star spangled banner yet wave', 'start': 56.156, 'duration': 6.573},\n",
              " {'text': \"O'er the land of the free,\", 'start': 62.729, 'duration': 4.871},\n",
              " {'text': 'and the home of the brave.', 'start': 67.6, 'duration': 7.608}]"
            ]
          },
          "metadata": {},
          "execution_count": 19
        }
      ]
    },
    {
      "cell_type": "code",
      "source": [
        "#@title Get Video Transcript (CSV)\n",
        "\n",
        "# Using CSV files is a convenient way to integrate with LangChain (and LangFlow).\n",
        "# Also is much more efficient in token usage so longer transcripts will work for\n",
        "# any given LLM context token limit.\n",
        "\n",
        "import csv\n",
        "import os\n",
        "from youtube_transcript_api import YouTubeTranscriptApi\n",
        "\n",
        "if not video_id:\n",
        "  raise ValueError(\"video_id isn't set\")\n",
        "\n",
        "transcript = []\n",
        "out_dir = os.path.join(outputs_path, video_id)\n",
        "transcript_file_path = os.path.join(out_dir, 'transcript.csv')\n",
        "fieldnames = ['start', 'duration', 'text']\n",
        "if os.path.exists(transcript_file_path):\n",
        "  with open(transcript_file_path, 'r') as csv_file:\n",
        "    reader = csv.DictReader(csv_file, fieldnames=fieldnames, quoting=csv.QUOTE_NONNUMERIC)\n",
        "    next(reader)  # skip header\n",
        "    for row in reader:\n",
        "      transcript.append(row)\n",
        "    print(f'Read transcript from file: {transcript_file_path}')\n",
        "\n",
        "if not transcript:\n",
        "  transcript = YouTubeTranscriptApi.get_transcript(video_id)\n",
        "  print('Got transcript from YouTube API')\n",
        "  os.makedirs(out_dir, exist_ok=True)\n",
        "  with open(transcript_file_path, 'w', newline='') as csv_file:\n",
        "    writer = csv.DictWriter(csv_file, fieldnames=fieldnames, quoting=csv.QUOTE_NONNUMERIC)\n",
        "    writer.writeheader()\n",
        "    for row in transcript:\n",
        "      writer.writerow(row)\n",
        "    print(f'Saved transcript to file: {transcript_file_path}')\n",
        "\n",
        "transcript"
      ],
      "metadata": {
        "colab": {
          "base_uri": "https://localhost:8080/"
        },
        "outputId": "c785edd7-faaa-4423-e6e4-c65b35021ce7",
        "id": "MOGyhWukzHUF"
      },
      "execution_count": 24,
      "outputs": [
        {
          "output_type": "stream",
          "name": "stdout",
          "text": [
            "Read transcript from file: /content/gdrive/MyDrive/Commentator_AI/Transcript_to_Video/vPKp29Luryc/transcript.csv\n"
          ]
        },
        {
          "output_type": "execute_result",
          "data": {
            "text/plain": [
              "[{'start': 7.407, 'duration': 4.071, 'text': 'O say can you see,'},\n",
              " {'start': 11.478, 'duration': 3.737, 'text': \"by the dawn's early light,\"},\n",
              " {'start': 15.215, 'duration': 3.837, 'text': 'What so proudly we hailed'},\n",
              " {'start': 19.052,\n",
              "  'duration': 3.937,\n",
              "  'text': \"at the twilight's last gleaming?\"},\n",
              " {'start': 22.989,\n",
              "  'duration': 3.937,\n",
              "  'text': 'Whose broad stripes and bright stars,'},\n",
              " {'start': 26.926, 'duration': 3.537, 'text': 'through the perilous fight,'},\n",
              " {'start': 30.463, 'duration': 3.737, 'text': \"O'er the ramparts we watched,\"},\n",
              " {'start': 34.2, 'duration': 4.071, 'text': 'were so gallantly streaming?'},\n",
              " {'start': 38.271, 'duration': 3.837, 'text': 'And the rockets red glare,'},\n",
              " {'start': 42.108, 'duration': 3.837, 'text': 'the bombs bursting in air,'},\n",
              " {'start': 45.945, 'duration': 3.737, 'text': 'Gave proof through the night'},\n",
              " {'start': 49.682,\n",
              "  'duration': 3.871,\n",
              "  'text': 'that our flag was still there.'},\n",
              " {'start': 53.553, 'duration': 2.603, 'text': 'O say does that'},\n",
              " {'start': 56.156, 'duration': 6.573, 'text': 'star spangled banner yet wave'},\n",
              " {'start': 62.729, 'duration': 4.871, 'text': \"O'er the land of the free,\"},\n",
              " {'start': 67.6, 'duration': 7.608, 'text': 'and the home of the brave.'}]"
            ]
          },
          "metadata": {},
          "execution_count": 24
        }
      ]
    },
    {
      "cell_type": "code",
      "source": [
        "transcript_csv_text = ''\n",
        "with open(transcript_file_path, 'r') as csv_file:\n",
        "  transcript_csv_text = csv_file.read()\n",
        "\n",
        "transcript_csv_text"
      ],
      "metadata": {
        "colab": {
          "base_uri": "https://localhost:8080/",
          "height": 87
        },
        "id": "iFUcqjEwL5rH",
        "outputId": "ef2d793b-75cf-49ea-cc3a-0b7fd2886a40"
      },
      "execution_count": 27,
      "outputs": [
        {
          "output_type": "execute_result",
          "data": {
            "text/plain": [
              "'\"start\",\"duration\",\"text\"\\n7.407,4.071,\"O say can you see,\"\\n11.478,3.737,\"by the dawn\\'s early light,\"\\n15.215,3.837,\"What so proudly we hailed\"\\n19.052,3.937,\"at the twilight\\'s last gleaming?\"\\n22.989,3.937,\"Whose broad stripes and bright stars,\"\\n26.926,3.537,\"through the perilous fight,\"\\n30.463,3.737,\"O\\'er the ramparts we watched,\"\\n34.2,4.071,\"were so gallantly streaming?\"\\n38.271,3.837,\"And the rockets red glare,\"\\n42.108,3.837,\"the bombs bursting in air,\"\\n45.945,3.737,\"Gave proof through the night\"\\n49.682,3.871,\"that our flag was still there.\"\\n53.553,2.603,\"O say does that\"\\n56.156,6.573,\"star spangled banner yet wave\"\\n62.729,4.871,\"O\\'er the land of the free,\"\\n67.6,7.608,\"and the home of the brave.\"\\n'"
            ],
            "application/vnd.google.colaboratory.intrinsic+json": {
              "type": "string"
            }
          },
          "metadata": {},
          "execution_count": 27
        }
      ]
    },
    {
      "cell_type": "code",
      "source": [
        "from langchain.chat_models import ChatOpenAI\n",
        "from langchain.agents import initialize_agent, Tool, AgentType\n",
        "from getpass import getpass\n",
        "\n",
        "if not 'OPENAI_API_KEY' in os.environ:\n",
        "  key = getpass('Enter your OpenAI API key: ')\n",
        "  if key:\n",
        "    os.environ['OPENAI_API_KEY'] = key\n",
        "\n",
        "CHAT_MODEL = 'gpt-4-0613'  #@param {type:\"string\"}\n",
        "llm = ChatOpenAI(temperature=0.3, model=CHAT_MODEL)\n",
        "image_gen = ImageGeneratorTool()\n",
        "tools = [Tool(name='VideoImageGenerator',\n",
        "              func=image_gen.run,\n",
        "              description=\"\"\"Image generator for making videos.\n",
        "              Arguments are 'start', 'duration', 'lyric', 'image description'\"\"\")]\n",
        "mrkl = initialize_agent(tools, llm, agent=AgentType.OPENAI_FUNCTIONS, verbose=True)\n"
      ],
      "metadata": {
        "id": "X53Kr83yQ1vX"
      },
      "execution_count": 54,
      "outputs": []
    },
    {
      "cell_type": "code",
      "source": [
        "from langchain.chat_models import ChatOpenAI\n",
        "from langchain.schema import HumanMessage, SystemMessage\n",
        "\n",
        "image_description_csv_text = None\n",
        "out_dir = os.path.join(outputs_path, video_id)\n",
        "image_description_file_path = os.path.join(out_dir, 'image_descriptions.csv')\n",
        "fieldnames = ['start', 'duration', 'text', 'description']\n",
        "if os.path.exists(image_description_file_path):\n",
        "  with open(image_description_file_path, 'r') as csv_file:\n",
        "    image_description_csv_text = csv_file.read()\n",
        "    print(f'Read image descriptions from file: {image_description_file_path}')\n",
        "\n",
        "if not image_description_csv_text:\n",
        "  chat = ChatOpenAI(temperature=0.3, model=CHAT_MODEL)\n",
        "  print('ChatGPT working...')\n",
        "  response = chat([HumanMessage(content=f\"\"\"You're a visual musical artist.\n",
        "  Given the following lyrics choose the phrases that should be illustrated to make a timed music video for this song.\n",
        "  Respond in CSV format with the columns 'start', 'duration', 'text' (for the transcription text), 'description' (for the image description).\n",
        "  Keep in mind that each image description will be rendered separately so don't use any references between them.\n",
        "\n",
        "  {transcript_csv_text}\"\"\")])\n",
        "  print('Got image descriptions from ChatGPT')\n",
        "  print(response.content)\n",
        "  os.makedirs(out_dir, exist_ok=True)\n",
        "  with open(image_description_file_path, 'w', newline='') as csv_file:\n",
        "    csv_file.write(response.content)\n",
        "    print(f'Saved image descriptions to file: {image_description_file_path}')\n",
        "\n",
        "image_description_csv_text"
      ],
      "metadata": {
        "colab": {
          "base_uri": "https://localhost:8080/",
          "height": 400
        },
        "id": "6e-QQ9Xtetw0",
        "outputId": "63c134a5-b6e0-46f5-bab4-427804ff38f7"
      },
      "execution_count": 71,
      "outputs": [
        {
          "output_type": "stream",
          "name": "stdout",
          "text": [
            "Read image descriptions from file: /content/gdrive/MyDrive/Commentator_AI/Transcript_to_Video/vPKp29Luryc/image_descriptions.csv\n",
            "ChatGPT working...\n",
            "Got image descriptions from ChatGPT\n",
            "\"start\",\"duration\",\"text\",\"description\"\n",
            "7.407,4.071,\"O say can you see,\",\"A person looking out into the distance.\"\n",
            "11.478,3.737,\"by the dawn's early light,\",\"A sunrise over a landscape.\"\n",
            "15.215,3.837,\"What so proudly we hailed\",\"A group of people waving flags.\"\n",
            "19.052,3.937,\"at the twilight's last gleaming?\",\"A sunset with a flag in the foreground.\"\n",
            "22.989,3.937,\"Whose broad stripes and bright stars,\",\"Close-up of an American flag.\"\n",
            "26.926,3.537,\"through the perilous fight,\",\"A battle scene with soldiers.\"\n",
            "30.463,3.737,\"O'er the ramparts we watched,\",\"People watching from a fortress wall.\"\n",
            "34.2,4.071,\"were so gallantly streaming?\",\"The American flag waving in the wind.\"\n",
            "38.271,3.837,\"And the rockets red glare,\",\"Rockets lighting up the night sky.\"\n",
            "42.108,3.837,\"the bombs bursting in air,\",\"Explosions in the sky.\"\n",
            "45.945,3.737,\"Gave proof through the night\",\"A night scene with a lit up flag.\"\n",
            "49.682,3.871,\"that our flag was still there.\",\"The American flag still standing amidst a battlefield.\"\n",
            "53.553,2.603,\"O say does that\",\"A person questioning and pointing.\"\n",
            "56.156,6.573,\"star spangled banner yet wave\",\"The American flag waving in the wind.\"\n",
            "62.729,4.871,\"O'er the land of the free,\",\"A panoramic view of the American landscape.\"\n",
            "67.6,7.608,\"and the home of the brave.\",\"A peaceful home setting with the American flag in the background.\"\n",
            "Saved image descriptions to file: /content/gdrive/MyDrive/Commentator_AI/Transcript_to_Video/vPKp29Luryc/image_descriptions.csv\n"
          ]
        },
        {
          "output_type": "execute_result",
          "data": {
            "text/plain": [
              "''"
            ],
            "application/vnd.google.colaboratory.intrinsic+json": {
              "type": "string"
            }
          },
          "metadata": {},
          "execution_count": 71
        }
      ]
    },
    {
      "cell_type": "code",
      "source": [
        "#@title Connect to the Stability API\n",
        "import datetime\n",
        "import getpass\n",
        "import json\n",
        "import os\n",
        "import panel as pn\n",
        "import param\n",
        "\n",
        "from base64 import b64encode\n",
        "from IPython import display\n",
        "from tqdm import tqdm\n",
        "from types import SimpleNamespace\n",
        "\n",
        "from stability_sdk.api import Context\n",
        "from stability_sdk.animation import AnimationArgs, Animator\n",
        "from stability_sdk.utils import create_video_from_frames\n",
        "\n",
        "# @markdown To get your API key visit https://dreamstudio.ai/account\n",
        "STABILITY_HOST = \"grpc.stability.ai:443\" #@param {type:\"string\"}\n",
        "STABILITY_KEY = getpass.getpass('Enter your API Key')\n",
        "\n",
        "# Connect to Stability API\n",
        "context = Context(STABILITY_HOST, STABILITY_KEY)\n",
        "\n",
        "# Test the connection\n",
        "context.get_user_info()\n",
        "print(\"Connection successful!\")"
      ],
      "metadata": {
        "id": "0Q7MEkMimZBf"
      },
      "execution_count": null,
      "outputs": []
    }
  ]
}