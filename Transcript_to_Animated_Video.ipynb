{
  "nbformat": 4,
  "nbformat_minor": 0,
  "metadata": {
    "colab": {
      "provenance": [],
      "machine_shape": "hm",
      "gpuType": "A100",
      "authorship_tag": "ABX9TyMa4kr2ANx5Bi1kKoowfz3l",
      "include_colab_link": true
    },
    "kernelspec": {
      "name": "python3",
      "display_name": "Python 3"
    },
    "language_info": {
      "name": "python"
    },
    "accelerator": "GPU"
  },
  "cells": [
    {
      "cell_type": "markdown",
      "metadata": {
        "id": "view-in-github",
        "colab_type": "text"
      },
      "source": [
        "<a href=\"https://colab.research.google.com/github/jimwhite/commentator_ai/blob/main/Transcript_to_Animated_Video.ipynb\" target=\"_parent\"><img src=\"https://colab.research.google.com/assets/colab-badge.svg\" alt=\"Open In Colab\"/></a>"
      ]
    },
    {
      "cell_type": "markdown",
      "source": [
        "# Visualizer.TV: \"MP3 to MTV\" Demo\n",
        "\n",
        " * Concept: Robert Sloan (https://www.linkedin.com/in/sloanrobert/)\n",
        " * Code: Jim White (https://www.linkedin.com/in/jamespaulwhite/)\n",
        " * Demo Slides: [Google Slides in Drive link](https://docs.google.com/presentation/d/14mSrc1GOQhetNkOHjFkGLNNe-ZrbhPHIviC9Tj6VuHE/edit?usp=sharing)\n",
        " * License: GPL v3 (https://github.com/jimwhite/commentator_ai/blob/main/LICENSE)\n",
        "\n",
        "## Notes\n",
        "This implementation doesn't actually take MP3s like the title says.  The current approach is to provide a URL to a YouTube video with a transcript (i.e. closed captions).  \n",
        "\n",
        "This code should work using \"Run All\" (after you set a suitable YouTube URL below), there will be auth prompt for access to your Google Drive (for temporary files and the final video) and getpass prompting for your OpenAI and Stability API keys.  See notes in line for getting keys if you need pointers, they both include some free credits for new accounts.\n",
        "\n",
        "## TODO\n",
        " * Add animation (e.g. pan & zoom) effects.\n",
        " * Add transitions effects.  One approach is using Stability init_image to generate frame-by-frame animations that morph from one scene to the next.\n",
        " * Add review mode for image generation for easy way to accept/reject candidates.  Image generation is pretty hit or miss (with plenty of misses).  Right now if you want to replace an image you can remove the file from the folder in your drive and rerun the image generation step (because it doesn't regenerate images that already have a file with the matching description/name).\n",
        " * Support actually using MP3s and running STT on them to get the timed lyrics.  Although OpenAI Whisper API has timestamps the code we had didn't deliver them.  Google Speech and other APIs would work fine too.\n",
        " * Try other image generators.  This SDXL beta makes some funny stuff.\n",
        " * Use the upscaler API to make higher resoltion videos.\n",
        " * Prompt refinements/experiments.\n",
        " * Buff up the error handling for:\n",
        "  * ChatGPT responses with bad CSV formatting.  LangChain is used here and I wanted to use tools and OpenAI Functions but that wound up not fitting in the time for the hackathon.\n",
        "  * Image descriptions that fail Stability filters.  Even seemingly innocuous words/phrases will fail and the current logic is to just skip those.  Retrying by asking ChatGPT to rephrase those descriptions is one possible solution."
      ],
      "metadata": {
        "id": "XTUZKqZgMb_E"
      }
    },
    {
      "cell_type": "code",
      "execution_count": null,
      "metadata": {
        "id": "jMvpOZVDkrHG",
        "colab": {
          "base_uri": "https://localhost:8080/"
        },
        "outputId": "52cf4ee7-a8ff-47c6-c886-88d6484bf5a3"
      },
      "outputs": [
        {
          "output_type": "stream",
          "name": "stdout",
          "text": [
            "\u001b[2K     \u001b[90m━━━━━━━━━━━━━━━━━━━━━━━━━━━━━━━━━━━━━━━━\u001b[0m \u001b[32m84.1/84.1 kB\u001b[0m \u001b[31m6.2 MB/s\u001b[0m eta \u001b[36m0:00:00\u001b[0m\n",
            "\u001b[2K     \u001b[90m━━━━━━━━━━━━━━━━━━━━━━━━━━━━━━━━━━━━━━━━\u001b[0m \u001b[32m1.2/1.2 MB\u001b[0m \u001b[31m53.4 MB/s\u001b[0m eta \u001b[36m0:00:00\u001b[0m\n",
            "\u001b[2K     \u001b[90m━━━━━━━━━━━━━━━━━━━━━━━━━━━━━━━━━━━━━━━━\u001b[0m \u001b[32m73.6/73.6 kB\u001b[0m \u001b[31m10.8 MB/s\u001b[0m eta \u001b[36m0:00:00\u001b[0m\n",
            "\u001b[2K     \u001b[90m━━━━━━━━━━━━━━━━━━━━━━━━━━━━━━━━━━━━━━━━\u001b[0m \u001b[32m3.0/3.0 MB\u001b[0m \u001b[31m93.3 MB/s\u001b[0m eta \u001b[36m0:00:00\u001b[0m\n",
            "\u001b[2K     \u001b[90m━━━━━━━━━━━━━━━━━━━━━━━━━━━━━━━━━━━━━━━━\u001b[0m \u001b[32m5.0/5.0 MB\u001b[0m \u001b[31m30.8 MB/s\u001b[0m eta \u001b[36m0:00:00\u001b[0m\n",
            "\u001b[2K     \u001b[90m━━━━━━━━━━━━━━━━━━━━━━━━━━━━━━━━━━━━━━━━\u001b[0m \u001b[32m2.4/2.4 MB\u001b[0m \u001b[31m112.6 MB/s\u001b[0m eta \u001b[36m0:00:00\u001b[0m\n",
            "\u001b[2K     \u001b[90m━━━━━━━━━━━━━━━━━━━━━━━━━━━━━━━━━━━━━━\u001b[0m \u001b[32m409.8/409.8 kB\u001b[0m \u001b[31m44.9 MB/s\u001b[0m eta \u001b[36m0:00:00\u001b[0m\n",
            "\u001b[2K     \u001b[90m━━━━━━━━━━━━━━━━━━━━━━━━━━━━━━━━━━━━━━━━\u001b[0m \u001b[32m90.0/90.0 kB\u001b[0m \u001b[31m14.1 MB/s\u001b[0m eta \u001b[36m0:00:00\u001b[0m\n",
            "\u001b[2K     \u001b[90m━━━━━━━━━━━━━━━━━━━━━━━━━━━━━━━━━━━━━━\u001b[0m \u001b[32m193.6/193.6 kB\u001b[0m \u001b[31m27.2 MB/s\u001b[0m eta \u001b[36m0:00:00\u001b[0m\n",
            "\u001b[2K     \u001b[90m━━━━━━━━━━━━━━━━━━━━━━━━━━━━━━━━━━━━━━━━\u001b[0m \u001b[32m2.1/2.1 MB\u001b[0m \u001b[31m101.4 MB/s\u001b[0m eta \u001b[36m0:00:00\u001b[0m\n",
            "\u001b[2K     \u001b[90m━━━━━━━━━━━━━━━━━━━━━━━━━━━━━━━━━━━━━━\u001b[0m \u001b[32m129.9/129.9 kB\u001b[0m \u001b[31m18.1 MB/s\u001b[0m eta \u001b[36m0:00:00\u001b[0m\n",
            "\u001b[2K     \u001b[90m━━━━━━━━━━━━━━━━━━━━━━━━━━━━━━━━━━━━━━━━\u001b[0m \u001b[32m2.7/2.7 MB\u001b[0m \u001b[31m108.8 MB/s\u001b[0m eta \u001b[36m0:00:00\u001b[0m\n",
            "\u001b[2K     \u001b[90m━━━━━━━━━━━━━━━━━━━━━━━━━━━━━━━━━━━━━━━━\u001b[0m \u001b[32m49.1/49.1 kB\u001b[0m \u001b[31m7.0 MB/s\u001b[0m eta \u001b[36m0:00:00\u001b[0m\n",
            "\u001b[?25h"
          ]
        }
      ],
      "source": [
        "#@title Install dependencies\n",
        "%pip install -q stability-sdk youtube-transcript-api langchain openai opencv-python yt-dlp ffmpeg-python"
      ]
    },
    {
      "cell_type": "code",
      "source": [
        "#@title AI Lost Media's Text to Video Colab Workspace https://youtube.com/@ailostmedia\n",
        "#huge thanks to Camenduru https://twitter.com/camenduru and Cerspense https://twitter.com/cerspense for putting these models together.\n",
        "#tutorial: https://www.ailostmedia.com/post/the-ai-lost-media-text-to-video-colab-workspace\n",
        "%cd /content\n",
        "!pip install -q torch==1.13.1+cu116 torchvision==0.14.1+cu116 torchaudio==0.13.1 torchtext==0.14.1 torchdata==0.5.1 --extra-index-url https://download.pytorch.org/whl/cu116 -U\n",
        "!pip install git+https://github.com/huggingface/diffusers transformers accelerate imageio[ffmpeg] -U einops omegaconf decord xformers==0.0.16 safetensors\n",
        "!git clone -b dev https://github.com/camenduru/Text-To-Video-Finetuning\n",
        "!git clone https://github.com/ailostmedia/Potat1ALM\n",
        "!mv /content/Potat1ALM/inference.py /content/Text-To-Video-Finetuning/"
      ],
      "metadata": {
        "colab": {
          "base_uri": "https://localhost:8080/",
          "height": 1000
        },
        "id": "CKvtKddQdGPT",
        "outputId": "2794e1b9-4deb-475e-a898-5c9f05926e68"
      },
      "execution_count": null,
      "outputs": [
        {
          "output_type": "stream",
          "name": "stdout",
          "text": [
            "/content\n",
            "\u001b[2K     \u001b[90m━━━━━━━━━━━━━━━━━━━━━━━━━━━━━━━━━━━━━━━━\u001b[0m \u001b[32m2.0/2.0 GB\u001b[0m \u001b[31m929.3 kB/s\u001b[0m eta \u001b[36m0:00:00\u001b[0m\n",
            "\u001b[2K     \u001b[90m━━━━━━━━━━━━━━━━━━━━━━━━━━━━━━━━━━━━━━━━\u001b[0m \u001b[32m24.2/24.2 MB\u001b[0m \u001b[31m70.4 MB/s\u001b[0m eta \u001b[36m0:00:00\u001b[0m\n",
            "\u001b[2K     \u001b[90m━━━━━━━━━━━━━━━━━━━━━━━━━━━━━━━━━━━━━━━━\u001b[0m \u001b[32m4.2/4.2 MB\u001b[0m \u001b[31m112.3 MB/s\u001b[0m eta \u001b[36m0:00:00\u001b[0m\n",
            "\u001b[2K     \u001b[90m━━━━━━━━━━━━━━━━━━━━━━━━━━━━━━━━━━━━━━━━\u001b[0m \u001b[32m2.0/2.0 MB\u001b[0m \u001b[31m48.2 MB/s\u001b[0m eta \u001b[36m0:00:00\u001b[0m\n",
            "\u001b[2K     \u001b[90m━━━━━━━━━━━━━━━━━━━━━━━━━━━━━━━━━━━━━━━━\u001b[0m \u001b[32m4.6/4.6 MB\u001b[0m \u001b[31m81.9 MB/s\u001b[0m eta \u001b[36m0:00:00\u001b[0m\n",
            "\u001b[?25hCollecting git+https://github.com/huggingface/diffusers\n",
            "  Cloning https://github.com/huggingface/diffusers to /tmp/pip-req-build-buj_7bp_\n",
            "  Running command git clone --filter=blob:none --quiet https://github.com/huggingface/diffusers /tmp/pip-req-build-buj_7bp_\n",
            "  Resolved https://github.com/huggingface/diffusers to commit 174dcd697faf88370f1e7b2eeabb059dd8f1b2f4\n",
            "  Installing build dependencies ... \u001b[?25l\u001b[?25hdone\n",
            "  Getting requirements to build wheel ... \u001b[?25l\u001b[?25hdone\n",
            "  Preparing metadata (pyproject.toml) ... \u001b[?25l\u001b[?25hdone\n",
            "Collecting transformers\n",
            "  Downloading transformers-4.30.2-py3-none-any.whl (7.2 MB)\n",
            "\u001b[2K     \u001b[90m━━━━━━━━━━━━━━━━━━━━━━━━━━━━━━━━━━━━━━━━\u001b[0m \u001b[32m7.2/7.2 MB\u001b[0m \u001b[31m48.9 MB/s\u001b[0m eta \u001b[36m0:00:00\u001b[0m\n",
            "\u001b[?25hCollecting accelerate\n",
            "  Downloading accelerate-0.20.3-py3-none-any.whl (227 kB)\n",
            "\u001b[2K     \u001b[90m━━━━━━━━━━━━━━━━━━━━━━━━━━━━━━━━━━━━━━\u001b[0m \u001b[32m227.6/227.6 kB\u001b[0m \u001b[31m31.1 MB/s\u001b[0m eta \u001b[36m0:00:00\u001b[0m\n",
            "\u001b[?25hRequirement already satisfied: imageio[ffmpeg] in /usr/local/lib/python3.10/dist-packages (2.25.1)\n",
            "Collecting imageio[ffmpeg]\n",
            "  Downloading imageio-2.31.1-py3-none-any.whl (313 kB)\n",
            "\u001b[2K     \u001b[90m━━━━━━━━━━━━━━━━━━━━━━━━━━━━━━━━━━━━━━\u001b[0m \u001b[32m313.2/313.2 kB\u001b[0m \u001b[31m40.6 MB/s\u001b[0m eta \u001b[36m0:00:00\u001b[0m\n",
            "\u001b[?25hCollecting einops\n",
            "  Downloading einops-0.6.1-py3-none-any.whl (42 kB)\n",
            "\u001b[2K     \u001b[90m━━━━━━━━━━━━━━━━━━━━━━━━━━━━━━━━━━━━━━━━\u001b[0m \u001b[32m42.2/42.2 kB\u001b[0m \u001b[31m6.8 MB/s\u001b[0m eta \u001b[36m0:00:00\u001b[0m\n",
            "\u001b[?25hCollecting omegaconf\n",
            "  Downloading omegaconf-2.3.0-py3-none-any.whl (79 kB)\n",
            "\u001b[2K     \u001b[90m━━━━━━━━━━━━━━━━━━━━━━━━━━━━━━━━━━━━━━━━\u001b[0m \u001b[32m79.5/79.5 kB\u001b[0m \u001b[31m12.3 MB/s\u001b[0m eta \u001b[36m0:00:00\u001b[0m\n",
            "\u001b[?25hCollecting decord\n",
            "  Downloading decord-0.6.0-py3-none-manylinux2010_x86_64.whl (13.6 MB)\n",
            "\u001b[2K     \u001b[90m━━━━━━━━━━━━━━━━━━━━━━━━━━━━━━━━━━━━━━━━\u001b[0m \u001b[32m13.6/13.6 MB\u001b[0m \u001b[31m91.0 MB/s\u001b[0m eta \u001b[36m0:00:00\u001b[0m\n",
            "\u001b[?25hCollecting xformers==0.0.16\n",
            "  Downloading xformers-0.0.16-cp310-cp310-manylinux2014_x86_64.whl (50.9 MB)\n",
            "\u001b[2K     \u001b[90m━━━━━━━━━━━━━━━━━━━━━━━━━━━━━━━━━━━━━━━━\u001b[0m \u001b[32m50.9/50.9 MB\u001b[0m \u001b[31m30.5 MB/s\u001b[0m eta \u001b[36m0:00:00\u001b[0m\n",
            "\u001b[?25hCollecting safetensors\n",
            "  Downloading safetensors-0.3.1-cp310-cp310-manylinux_2_17_x86_64.manylinux2014_x86_64.whl (1.3 MB)\n",
            "\u001b[2K     \u001b[90m━━━━━━━━━━━━━━━━━━━━━━━━━━━━━━━━━━━━━━━━\u001b[0m \u001b[32m1.3/1.3 MB\u001b[0m \u001b[31m81.3 MB/s\u001b[0m eta \u001b[36m0:00:00\u001b[0m\n",
            "\u001b[?25hRequirement already satisfied: numpy in /usr/local/lib/python3.10/dist-packages (from xformers==0.0.16) (1.22.4)\n",
            "Collecting pyre-extensions==0.0.23 (from xformers==0.0.16)\n",
            "  Downloading pyre_extensions-0.0.23-py3-none-any.whl (11 kB)\n",
            "Requirement already satisfied: torch==1.13.1 in /usr/local/lib/python3.10/dist-packages (from xformers==0.0.16) (1.13.1+cu116)\n",
            "Requirement already satisfied: typing-inspect in /usr/local/lib/python3.10/dist-packages (from pyre-extensions==0.0.23->xformers==0.0.16) (0.9.0)\n",
            "Requirement already satisfied: typing-extensions in /usr/local/lib/python3.10/dist-packages (from pyre-extensions==0.0.23->xformers==0.0.16) (4.6.3)\n",
            "Collecting importlib-metadata (from diffusers==0.18.0.dev0)\n",
            "  Downloading importlib_metadata-6.7.0-py3-none-any.whl (22 kB)\n",
            "Requirement already satisfied: filelock in /usr/local/lib/python3.10/dist-packages (from diffusers==0.18.0.dev0) (3.12.2)\n",
            "Collecting huggingface-hub>=0.13.2 (from diffusers==0.18.0.dev0)\n",
            "  Downloading huggingface_hub-0.15.1-py3-none-any.whl (236 kB)\n",
            "\u001b[2K     \u001b[90m━━━━━━━━━━━━━━━━━━━━━━━━━━━━━━━━━━━━━━\u001b[0m \u001b[32m236.8/236.8 kB\u001b[0m \u001b[31m32.5 MB/s\u001b[0m eta \u001b[36m0:00:00\u001b[0m\n",
            "\u001b[?25hRequirement already satisfied: regex!=2019.12.17 in /usr/local/lib/python3.10/dist-packages (from diffusers==0.18.0.dev0) (2022.10.31)\n",
            "Requirement already satisfied: requests in /usr/local/lib/python3.10/dist-packages (from diffusers==0.18.0.dev0) (2.27.1)\n",
            "Requirement already satisfied: Pillow in /usr/local/lib/python3.10/dist-packages (from diffusers==0.18.0.dev0) (8.4.0)\n",
            "Requirement already satisfied: packaging>=20.0 in /usr/local/lib/python3.10/dist-packages (from transformers) (23.1)\n",
            "Requirement already satisfied: pyyaml>=5.1 in /usr/local/lib/python3.10/dist-packages (from transformers) (6.0)\n",
            "Collecting tokenizers!=0.11.3,<0.14,>=0.11.1 (from transformers)\n",
            "  Downloading tokenizers-0.13.3-cp310-cp310-manylinux_2_17_x86_64.manylinux2014_x86_64.whl (7.8 MB)\n",
            "\u001b[2K     \u001b[90m━━━━━━━━━━━━━━━━━━━━━━━━━━━━━━━━━━━━━━━━\u001b[0m \u001b[32m7.8/7.8 MB\u001b[0m \u001b[31m104.6 MB/s\u001b[0m eta \u001b[36m0:00:00\u001b[0m\n",
            "\u001b[?25hRequirement already satisfied: tqdm>=4.27 in /usr/local/lib/python3.10/dist-packages (from transformers) (4.65.0)\n",
            "Requirement already satisfied: psutil in /usr/local/lib/python3.10/dist-packages (from accelerate) (5.9.5)\n",
            "Requirement already satisfied: imageio-ffmpeg in /usr/local/lib/python3.10/dist-packages (from imageio[ffmpeg]) (0.4.8)\n",
            "Collecting antlr4-python3-runtime==4.9.* (from omegaconf)\n",
            "  Downloading antlr4-python3-runtime-4.9.3.tar.gz (117 kB)\n",
            "\u001b[2K     \u001b[90m━━━━━━━━━━━━━━━━━━━━━━━━━━━━━━━━━━━━━━\u001b[0m \u001b[32m117.0/117.0 kB\u001b[0m \u001b[31m18.0 MB/s\u001b[0m eta \u001b[36m0:00:00\u001b[0m\n",
            "\u001b[?25h  Preparing metadata (setup.py) ... \u001b[?25l\u001b[?25hdone\n",
            "Requirement already satisfied: fsspec in /usr/local/lib/python3.10/dist-packages (from huggingface-hub>=0.13.2->diffusers==0.18.0.dev0) (2023.6.0)\n",
            "Requirement already satisfied: zipp>=0.5 in /usr/local/lib/python3.10/dist-packages (from importlib-metadata->diffusers==0.18.0.dev0) (3.15.0)\n",
            "Requirement already satisfied: urllib3<1.27,>=1.21.1 in /usr/local/lib/python3.10/dist-packages (from requests->diffusers==0.18.0.dev0) (1.26.16)\n",
            "Requirement already satisfied: certifi>=2017.4.17 in /usr/local/lib/python3.10/dist-packages (from requests->diffusers==0.18.0.dev0) (2023.5.7)\n",
            "Requirement already satisfied: charset-normalizer~=2.0.0 in /usr/local/lib/python3.10/dist-packages (from requests->diffusers==0.18.0.dev0) (2.0.12)\n",
            "Requirement already satisfied: idna<4,>=2.5 in /usr/local/lib/python3.10/dist-packages (from requests->diffusers==0.18.0.dev0) (3.4)\n",
            "Requirement already satisfied: mypy-extensions>=0.3.0 in /usr/local/lib/python3.10/dist-packages (from typing-inspect->pyre-extensions==0.0.23->xformers==0.0.16) (1.0.0)\n",
            "Building wheels for collected packages: diffusers, antlr4-python3-runtime\n",
            "  Building wheel for diffusers (pyproject.toml) ... \u001b[?25l\u001b[?25hdone\n",
            "  Created wheel for diffusers: filename=diffusers-0.18.0.dev0-py3-none-any.whl size=1126019 sha256=ce0702549f9ea53bd144061e1e39628afc90e61e324202d53bb3b83fb3026275\n",
            "  Stored in directory: /tmp/pip-ephem-wheel-cache-k1cywep0/wheels/f7/7d/99/d361489e5762e3464b3811bc629e94cf5bf5ef44dd5c3c4d52\n",
            "  Building wheel for antlr4-python3-runtime (setup.py) ... \u001b[?25l\u001b[?25hdone\n",
            "  Created wheel for antlr4-python3-runtime: filename=antlr4_python3_runtime-4.9.3-py3-none-any.whl size=144554 sha256=65e450e48dd856cc14ddc8653f159806eae47e654ecb58d5f0d18d806a227f6c\n",
            "  Stored in directory: /root/.cache/pip/wheels/12/93/dd/1f6a127edc45659556564c5730f6d4e300888f4bca2d4c5a88\n",
            "Successfully built diffusers antlr4-python3-runtime\n",
            "Installing collected packages: tokenizers, safetensors, antlr4-python3-runtime, omegaconf, importlib-metadata, imageio, einops, decord, pyre-extensions, huggingface-hub, accelerate, xformers, transformers, diffusers\n",
            "  Attempting uninstall: imageio\n",
            "    Found existing installation: imageio 2.25.1\n",
            "    Uninstalling imageio-2.25.1:\n",
            "      Successfully uninstalled imageio-2.25.1\n",
            "Successfully installed accelerate-0.20.3 antlr4-python3-runtime-4.9.3 decord-0.6.0 diffusers-0.18.0.dev0 einops-0.6.1 huggingface-hub-0.15.1 imageio-2.31.1 importlib-metadata-6.7.0 omegaconf-2.3.0 pyre-extensions-0.0.23 safetensors-0.3.1 tokenizers-0.13.3 transformers-4.30.2 xformers-0.0.16\n"
          ]
        },
        {
          "output_type": "display_data",
          "data": {
            "application/vnd.colab-display-data+json": {
              "pip_warning": {
                "packages": [
                  "pydevd_plugins"
                ]
              }
            }
          },
          "metadata": {}
        },
        {
          "output_type": "stream",
          "name": "stdout",
          "text": [
            "Cloning into 'Text-To-Video-Finetuning'...\n",
            "remote: Enumerating objects: 973, done.\u001b[K\n",
            "remote: Counting objects: 100% (322/322), done.\u001b[K\n",
            "remote: Compressing objects: 100% (99/99), done.\u001b[K\n",
            "remote: Total 973 (delta 250), reused 234 (delta 223), pack-reused 651\u001b[K\n",
            "Receiving objects: 100% (973/973), 1.77 MiB | 11.70 MiB/s, done.\n",
            "Resolving deltas: 100% (571/571), done.\n",
            "Cloning into 'Potat1ALM'...\n",
            "remote: Enumerating objects: 11, done.\u001b[K\n",
            "remote: Counting objects: 100% (11/11), done.\u001b[K\n",
            "remote: Compressing objects: 100% (7/7), done.\u001b[K\n",
            "remote: Total 11 (delta 2), reused 0 (delta 0), pack-reused 0\u001b[K\n",
            "Unpacking objects: 100% (11/11), 5.05 KiB | 1.68 MiB/s, done.\n"
          ]
        }
      ]
    },
    {
      "cell_type": "code",
      "source": [
        "#@title Install Potat1\n",
        "#default 1024 x 576 - try 800 x 448 for colab\n",
        "%cd /content/\n",
        "!git clone https://huggingface.co/camenduru/potat1"
      ],
      "metadata": {
        "colab": {
          "base_uri": "https://localhost:8080/"
        },
        "id": "8pyJzkbWdzxG",
        "outputId": "c16c8b18-ca2f-4144-f056-1b408309212d"
      },
      "execution_count": null,
      "outputs": [
        {
          "output_type": "stream",
          "name": "stdout",
          "text": [
            "/content\n",
            "Cloning into 'potat1'...\n",
            "remote: Enumerating objects: 88, done.\u001b[K\n",
            "remote: Counting objects: 100% (15/15), done.\u001b[K\n",
            "remote: Compressing objects: 100% (15/15), done.\u001b[K\n",
            "remote: Total 88 (delta 5), reused 0 (delta 0), pack-reused 73\u001b[K\n",
            "Unpacking objects: 100% (88/88), 522.95 KiB | 2.05 MiB/s, done.\n",
            "Filtering content: 100% (3/3), 4.05 GiB | 149.79 MiB/s, done.\n"
          ]
        }
      ]
    },
    {
      "cell_type": "code",
      "source": [
        "#@title Set up Google Drive for file storage\n",
        "try:\n",
        "    from google.colab import drive\n",
        "    drive.mount('/content/gdrive')\n",
        "    outputs_path = \"/content/gdrive/MyDrive/Commentator_AI/Animated_Video\"\n",
        "    !mkdir -p \"$outputs_path\"\n",
        "except:\n",
        "    outputs_path = \".\"\n",
        "print(f\"Files will be saved to {outputs_path}\")"
      ],
      "metadata": {
        "colab": {
          "base_uri": "https://localhost:8080/"
        },
        "id": "u5yM0kgilJhq",
        "outputId": "f5c3993d-a453-4200-a846-1fad29ae08a8"
      },
      "execution_count": null,
      "outputs": [
        {
          "output_type": "stream",
          "name": "stdout",
          "text": [
            "Drive already mounted at /content/gdrive; to attempt to forcibly remount, call drive.mount(\"/content/gdrive\", force_remount=True).\n",
            "Files will be saved to /content/gdrive/MyDrive/Commentator_AI/Animated_Video\n"
          ]
        }
      ]
    },
    {
      "cell_type": "code",
      "source": [
        "%rm -rf /content/output"
      ],
      "metadata": {
        "id": "9bNyWNMRhkQW"
      },
      "execution_count": null,
      "outputs": []
    },
    {
      "cell_type": "code",
      "source": [
        "#@title Set YouTube URL\n",
        "\n",
        "YOUTUBE_URL = \"https://www.youtube.com/watch?v=DADmZdbQ9x8\" #@param {type:\"string\"}\n",
        "\n",
        "import os\n",
        "import re\n",
        "\n",
        "def ytIdFromURL(url:str)->str:\n",
        "   data = re.findall(r\"(?:v=|\\/)([0-9A-Za-z_-]{11}).*\", url)\n",
        "   if data:\n",
        "       return data[0]\n",
        "   return None\n",
        "\n",
        "video_id = ytIdFromURL(YOUTUBE_URL)\n",
        "\n",
        "if not video_id:\n",
        "  raise ValueError(\"video_id isn't set\")\n",
        "\n",
        "print(f'YouTube ID: {video_id}')\n",
        "\n",
        "out_dir = os.path.join(outputs_path, video_id)\n",
        "os.makedirs(out_dir, exist_ok=True)\n",
        "!ln -s \"$out_dir\" /content/output\n",
        "\n",
        "print(f'/content/output linked to ${out_dir}')"
      ],
      "metadata": {
        "colab": {
          "base_uri": "https://localhost:8080/"
        },
        "id": "ftK_JYspmuh8",
        "outputId": "7077f799-8bd4-43d8-bd6e-6be1199ad791"
      },
      "execution_count": null,
      "outputs": [
        {
          "output_type": "stream",
          "name": "stdout",
          "text": [
            "YouTube ID: DADmZdbQ9x8\n",
            "/content/output linked to $/content/gdrive/MyDrive/Commentator_AI/Animated_Video/DADmZdbQ9x8\n"
          ]
        }
      ]
    },
    {
      "cell_type": "code",
      "source": [
        "#@title Get the Audio\n",
        "import os\n",
        "\n",
        "audio_file_path = os.path.join(out_dir, 'audio.m4a')\n",
        "\n",
        "if os.path.exists(audio_file_path):\n",
        "  print('Audio already downloaded')\n",
        "else:\n",
        "  !yt-dlp -f \"bestaudio[ext=m4a]\"  -o \"{audio_file_path}\" \"{YOUTUBE_URL}\""
      ],
      "metadata": {
        "colab": {
          "base_uri": "https://localhost:8080/"
        },
        "cellView": "form",
        "id": "m0I3sEpNsZED",
        "outputId": "91604f84-914f-42a0-b618-3ab1e7e12e9e"
      },
      "execution_count": null,
      "outputs": [
        {
          "output_type": "stream",
          "name": "stdout",
          "text": [
            "[youtube] Extracting URL: https://www.youtube.com/watch?v=DADmZdbQ9x8\n",
            "[youtube] DADmZdbQ9x8: Downloading webpage\n",
            "[youtube] DADmZdbQ9x8: Downloading ios player API JSON\n",
            "[youtube] DADmZdbQ9x8: Downloading android player API JSON\n",
            "[youtube] DADmZdbQ9x8: Downloading m3u8 information\n",
            "[info] DADmZdbQ9x8: Downloading 1 format(s): 140\n",
            "[download] Destination: /content/gdrive/MyDrive/Commentator_AI/Animated_Video/DADmZdbQ9x8/audio.m4a\n",
            "\u001b[K[download] 100% of    1.61MiB in \u001b[1;37m00:00:00\u001b[0m at \u001b[0;32m17.85MiB/s\u001b[0m\n",
            "[FixupM4a] Correcting container of \"/content/gdrive/MyDrive/Commentator_AI/Animated_Video/DADmZdbQ9x8/audio.m4a\"\n"
          ]
        }
      ]
    },
    {
      "cell_type": "code",
      "source": [
        "#@title Get Video Transcript (CSV)\n",
        "\n",
        "# Using CSV files is a convenient way to integrate with LangChain (and LangFlow).\n",
        "# Also is much more efficient in token usage so longer transcripts will work for\n",
        "# any given LLM context token limit.\n",
        "\n",
        "import csv\n",
        "from youtube_transcript_api import YouTubeTranscriptApi\n",
        "\n",
        "transcript = []\n",
        "\n",
        "transcript_file_path = os.path.join(out_dir, 'transcript.csv')\n",
        "fieldnames = ['start', 'duration', 'text']\n",
        "if os.path.exists(transcript_file_path):\n",
        "  with open(transcript_file_path, 'r') as csv_file:\n",
        "    reader = csv.DictReader(csv_file, fieldnames=fieldnames, quoting=csv.QUOTE_NONNUMERIC)\n",
        "    next(reader)  # skip header\n",
        "    for row in reader:\n",
        "      transcript.append(row)\n",
        "    print(f'Read transcript from file: {transcript_file_path}')\n",
        "\n",
        "if not transcript:\n",
        "  transcript = YouTubeTranscriptApi.get_transcript(video_id)\n",
        "  print('Got transcript from YouTube API')\n",
        "  with open(transcript_file_path, 'w', newline='') as csv_file:\n",
        "    writer = csv.DictWriter(csv_file, fieldnames=fieldnames, quoting=csv.QUOTE_NONNUMERIC)\n",
        "    writer.writeheader()\n",
        "    for row in transcript:\n",
        "      writer.writerow(row)\n",
        "    print(f'Saved transcript to file: {transcript_file_path}')\n",
        "\n",
        "transcript"
      ],
      "metadata": {
        "colab": {
          "base_uri": "https://localhost:8080/"
        },
        "outputId": "28dd2f64-1cc4-4e70-84b2-bf0b833fe37d",
        "id": "MOGyhWukzHUF",
        "cellView": "form"
      },
      "execution_count": null,
      "outputs": [
        {
          "output_type": "stream",
          "name": "stdout",
          "text": [
            "Got transcript from YouTube API\n",
            "Saved transcript to file: /content/gdrive/MyDrive/Commentator_AI/Animated_Video/DADmZdbQ9x8/transcript.csv\n"
          ]
        },
        {
          "output_type": "execute_result",
          "data": {
            "text/plain": [
              "[{'text': 'Oh, say can you see', 'start': 5.48, 'duration': 4.18},\n",
              " {'text': \"By the dawn's early light\", 'start': 9.66, 'duration': 4.1},\n",
              " {'text': 'What so proudly we hailed', 'start': 13.76, 'duration': 4.64},\n",
              " {'text': \"At the twilight's last gleaming?\", 'start': 18.4, 'duration': 4.16},\n",
              " {'text': 'Whose broad stripes and bright stars',\n",
              "  'start': 22.56,\n",
              "  'duration': 4.64},\n",
              " {'text': 'Through the perilous fight', 'start': 27.2, 'duration': 4.24},\n",
              " {'text': \"O'er the ramparts we watched\", 'start': 31.44, 'duration': 4.8},\n",
              " {'text': 'Were so gallantly streaming?', 'start': 36.24, 'duration': 4.72},\n",
              " {'text': \"And the rockets' red glare!\", 'start': 40.96, 'duration': 4.8},\n",
              " {'text': 'The bombs bursting in air!', 'start': 45.76, 'duration': 4.72},\n",
              " {'text': 'Gave proof through the night', 'start': 50.48, 'duration': 4.8},\n",
              " {'text': 'That our flag was still there', 'start': 55.28, 'duration': 5.04},\n",
              " {'text': 'Oh, say does that star spangled banner yet wave',\n",
              "  'start': 60.32,\n",
              "  'duration': 11.84},\n",
              " {'text': \"O'er the land of the free\", 'start': 72.16, 'duration': 6.96},\n",
              " {'text': 'And the home of the brave?', 'start': 79.12, 'duration': 8.72}]"
            ]
          },
          "metadata": {},
          "execution_count": 12
        }
      ]
    },
    {
      "cell_type": "markdown",
      "source": [
        "**Instructions for getting an OpenAI API key:** [https://platform.openai.com/](https://platform.openai.com/)\n",
        "\n",
        "The key is only stored in the kernel running this notebook for you and used in the calls to OpenAI's service endpoint."
      ],
      "metadata": {
        "id": "6AadZS8-5qO3"
      }
    },
    {
      "cell_type": "code",
      "source": [
        "#@title Get OpenAI API key\n",
        "from getpass import getpass\n",
        "\n",
        "if not 'OPENAI_API_KEY' in os.environ:\n",
        "  key = getpass('Enter your OpenAI API key: ')\n",
        "  if key:\n",
        "    os.environ['OPENAI_API_KEY'] = key\n"
      ],
      "metadata": {
        "id": "DamCbUW1BKXx",
        "cellView": "form",
        "colab": {
          "base_uri": "https://localhost:8080/"
        },
        "outputId": "9394dc23-8304-40af-fd05-2b1f9b384855"
      },
      "execution_count": null,
      "outputs": [
        {
          "name": "stdout",
          "output_type": "stream",
          "text": [
            "Enter your OpenAI API key: ··········\n"
          ]
        }
      ]
    },
    {
      "cell_type": "markdown",
      "source": [
        "This is the ChatGPT prompt used to select which lyrics to generate images for and the image description to use for each.  It also generates an initial image (aka scene) that starts at 0 seconds that represents the theme of the whole song."
      ],
      "metadata": {
        "id": "pbh727qY6Q3O"
      }
    },
    {
      "cell_type": "code",
      "source": [
        "%%writefile prompt.txt\n",
        "You're a visual musical artist. Given the following lyrics choose the phrases that should be\n",
        "animated or filmed to make a timed music video for this song.\n",
        "\n",
        "Respond in CSV format with the columns\n",
        "'start', 'duration', 'text' (for the transcription text), 'description' (for the scene description).\n",
        "\n",
        "Choose an artistic style that fits the mood of the song and include that in the individual video\n",
        "segment descriptions so that the visual appearance of the whole video will be connected.\n",
        "Of course there are creative cases where using different artistic styles/moods in one work is good\n",
        "but that is pretty rare.\n",
        "\n",
        "For the first row start at time 0 and make an image description that reflects the songs theme.\n",
        "The theme should include specifics such as the time and place that is being described, at least in\n",
        "some general way.  Otherwise generic terms such as events, activities, an objects of many kinds\n",
        "which naturally would be illustrated differently in different places and\n",
        "times will get rendered in an inconsistent manner.  For example, don't just say \"battle\", \"person\",\n",
        "or \"sunset\".  There should be sufficient details so that the time (or era), people, or place are\n",
        "described for the animator.  So applying the songs theme and meaning to\n",
        "each video scene description will need to include those particular choices you make in interpretation.\n",
        "Keep in mind that each image description will be rendered separately so don't use any references\n",
        "between them.  Also the image generator has limited input length and inputs are always image\n",
        "descriptions so omit superfluous words like \"Generate a video...\" or \"Animation of ...\".\n",
        "Also because the image rendering is done in isolation for each description please be sure to include\n",
        "enough thematic keys in them so the videos are holistic related to the song's theme (and that goose\n",
        "for the artistic style too).\n",
        "Finally, but very importantly, the scene descriptions should have enough details so they are\n",
        "specific to the ideas intended by the song as a whole including its theme.  Again, the video\n",
        "generator only sees each description separately so you have the job to do the translation from\n",
        "ideas that the songwriter and listeners get from the song and making an isolated image description.\n",
        "For example, in the Star Spangled Banner the phrase \"Home of the Brave\" refers to the whole country\n",
        "and all its people (all of whom are brave, not that there just some who are brave).\n",
        "Keep in mind this is the 2020s and good images are those that are inclusive of all people,\n",
        "in all the variety of their ethnicities, genders, traditions, religeons, languages, political views,\n",
        "philosophies, and identities.\n",
        "=== lyrics ==="
      ],
      "metadata": {
        "colab": {
          "base_uri": "https://localhost:8080/"
        },
        "id": "nSmt9dceRasY",
        "outputId": "3b056277-ddfc-4b7f-bce8-68ee5f2c575f"
      },
      "execution_count": null,
      "outputs": [
        {
          "output_type": "stream",
          "name": "stdout",
          "text": [
            "Writing prompt.txt\n"
          ]
        }
      ]
    },
    {
      "cell_type": "markdown",
      "source": [
        "If you don't have access to GPT-4 with your API key (if you're not sure you'll get an error message to that effect) then change the CHAT_MODEL to `gpt-3.5-turbo-0613`.  You might want to use 3.5 in any case because it is a lot cheaper (pricing is per token)."
      ],
      "metadata": {
        "id": "HJ6hih5N6wLc"
      }
    },
    {
      "cell_type": "code",
      "source": [
        "#@title ChatGPT selects lyrics to illustrate and generates image descriptions\n",
        "\n",
        "CHAT_MODEL = 'gpt-4-0613'  #@param {type:\"string\"}\n",
        "TEMPERATURE = 0.7  #@param {type:\"number\"}\n",
        "\n",
        "from langchain.chat_models import ChatOpenAI\n",
        "from langchain.schema import HumanMessage, SystemMessage\n",
        "\n",
        "image_description_csv_text = None\n",
        "out_dir = os.path.join(outputs_path, video_id)\n",
        "image_description_file_path = os.path.join(out_dir, 'image_descriptions.csv')\n",
        "fieldnames = ['start', 'duration', 'text', 'description']\n",
        "if os.path.exists(image_description_file_path):\n",
        "  with open(image_description_file_path, 'r') as csv_file:\n",
        "    image_description_csv_text = csv_file.read()\n",
        "    print(f'Read image descriptions from file: {image_description_file_path}')\n",
        "    print(image_description_csv_text)\n",
        "\n",
        "if not image_description_csv_text:\n",
        "  chat = ChatOpenAI(temperature=TEMPERATURE, model=CHAT_MODEL)\n",
        "  print('ChatGPT working...')\n",
        "  prompt_text = ''\n",
        "  with open('prompt.txt', 'r') as f:\n",
        "    prompt_text = f.read()\n",
        "  # Save a copy of prompt for future reference.\n",
        "  with open(os.path.join(out_dir, 'prompt.txt'), 'w') as f:\n",
        "    f.write(prompt_text)\n",
        "  with open(transcript_file_path, 'r') as csv_file:\n",
        "    prompt_text = '\\n\\n'.join([prompt_text, csv_file.read()])\n",
        "  response = chat([HumanMessage(content=prompt_text)])\n",
        "  print('Got image descriptions from ChatGPT')\n",
        "  image_description_csv_text = response.content\n",
        "  print(image_description_csv_text)\n",
        "  os.makedirs(out_dir, exist_ok=True)\n",
        "  with open(image_description_file_path, 'w', newline='') as csv_file:\n",
        "    csv_file.write(response.content)\n",
        "    print(f'Saved image descriptions to file: {image_description_file_path}')\n"
      ],
      "metadata": {
        "colab": {
          "base_uri": "https://localhost:8080/"
        },
        "id": "6e-QQ9Xtetw0",
        "outputId": "36e465c1-02ee-4d07-b4b6-6afbd87a3b4f",
        "cellView": "form"
      },
      "execution_count": null,
      "outputs": [
        {
          "output_type": "stream",
          "name": "stdout",
          "text": [
            "ChatGPT working...\n",
            "Got image descriptions from ChatGPT\n",
            "\"start\",\"duration\",\"text\",\"description\"\n",
            "0,5.48,\"\",\"A sunrise illuminating an 1812 era American battlefield, rendered in a dramatic, historic painting style.\"\n",
            "5.48,4.18,\"Oh, say can you see\",\"A close-up of a soldier's face, awestruck as he looks towards the horizon, depicted in a realistic, historic painting style.\"\n",
            "9.66,4.1,\"By the dawn's early light\",\"The soldier's perspective of the horizon, where the first light of dawn is breaking, painted in a romantic, historic style.\"\n",
            "13.76,4.64,\"What so proudly we hailed\",\"A fading flashback of the soldiers hailing the American flag, illustrated in a dramatic, historic painting style.\"\n",
            "18.4,4.16,\"At the twilight's last gleaming?\",\"The horizon scene transitions from dawn back to the previous night's twilight, captured in a historic, moody and atmospheric style.\"\n",
            "22.56,4.64,\"Whose broad stripes and bright stars\",\"Close-up of the American flag at twilight, with its stripes and stars dramatically highlighted in the dim light, in a historic, realistic painting style.\"\n",
            "27.2,4.24,\"Through the perilous fight\",\"Flashbacks of the battle that took place under the flag, presented in a dramatic, historic painting style.\"\n",
            "31.44,4.8,\"O'er the ramparts we watched\",\"The soldiers watching the battle from the ramparts of their fort, depicted in a realistic, historic painting style.\"\n",
            "36.24,4.72,\"Were so gallantly streaming?\",\"Flag waving gallantly in the wind as the battle rages, portrayed in a dramatic, historic painting style.\"\n",
            "40.96,4.8,\"And the rockets' red glare!\",\"Rockets soaring through the air, their red glare illuminating the flag, shown in a dramatic, historic painting style.\"\n",
            "45.76,4.72,\"The bombs bursting in air!\",\"Explosions in the night sky, backlighting the flag, painted in a dramatic, historic style.\"\n",
            "50.48,4.8,\"Gave proof through the night\",\"The enduring flag providing a beacon of hope throughout the battle-filled night, depicted in a historic, romantic style.\"\n",
            "55.28,5.04,\"That our flag was still there\",\"Dawn's early light revealing the flag still standing post-battle, depicted in a dramatic, historic painting style.\"\n",
            "60.32,11.84,\"Oh, say does that star spangled banner yet wave\",\"A panoramic view of the battlefield with the flag still waving, rendered in a dramatic, historic painting style.\"\n",
            "72.16,6.96,\"O'er the land of the free\",\"Transitions to various scenes across diverse American landscapes, showing the flag waving above free lands, depicted in a historic, romantic painting style.\"\n",
            "79.12,8.72,\"And the home of the brave?\",\"An inclusive montage of brave people from various ethnicities, genders, traditions, religions, languages, political views, philosophies, and identities, all under the waving flag, illustrated in a realistic, historic painting style.\"\n",
            "Saved image descriptions to file: /content/gdrive/MyDrive/Commentator_AI/Animated_Video/DADmZdbQ9x8/image_descriptions.csv\n"
          ]
        }
      ]
    },
    {
      "cell_type": "code",
      "source": [
        "%cd /content/Text-To-Video-Finetuning\n",
        "import torch\n",
        "import random\n",
        "import numpy as np\n",
        "\"\"\"\n",
        "torch.use_deterministic_algorithms(True)\n",
        "\n",
        "torch.backends.cudnn.benchmark = False\n",
        "torch.backends.cudnn.deterministic=True\n",
        "random.seed(2)\n",
        "np.random.seed(2)\n",
        "torch.manual_seed(2)\n",
        "torch.cuda.manual_seed(2)\n",
        "torch.cuda.manual_seed_all(2)\n",
        "torch.manual_seed(0)\n",
        "\"\"\"\n",
        "#print(\"seed is \" + str(torch.seed()))\n",
        "\n",
        "#seeding = \"Random\"\n",
        "#thisSeed = 123;\n",
        "\n",
        "\n",
        "#preset = \"Manual\"\n",
        "# while True:\n",
        "#@markdown ### Configuration for Text to Video generation\n",
        "model = \"potat1\" #@param [\"potat1\", \"zeroscope_v2_dark_30x448x256\", \"zeroscope_v2_576w\", \"zeroscope_v2_XL\"]\n",
        "negative = \"text, watermark, copyright, blurry, nsfw, noise, quick motion, bad quality, flicker, dirty, ugly, fast motion, quick cuts, fast editing, cuts\" #@param {type:\"string\"}\n",
        "negative = f\"\\\"{negative}\\\"\"\n",
        "num_steps = 25 #@param {type:\"raw\"}\n",
        "guidance_scale = 23 #@param {type:\"raw\"}\n",
        "width = 800 #@param {type:\"raw\"}\n",
        "height = 448 #@param {type:\"raw\"}\n",
        "fps = 10 #@param {type:\"raw\"}\n",
        "num_frames = 30 #@param {type:\"raw\"}\n",
        "seedManual = \"Random\"\n",
        "seeding = \"Random\" #@param [\"Random\", \"Manual\"]\n",
        "\n",
        "inputSeed = 7106521602475165645 #@param {type:\"raw\"}\n",
        "if seeding == \"Random\":\n",
        "  thisSeed = random.randint(0, ((1<<63)-1))\n",
        "  print(\"seed is \" + str(thisSeed))\n",
        "else:\n",
        "  thisSeed = inputSeed\n",
        "\n",
        "thisHeight = int(round(height/8.0)*8.0)\n",
        "thisWidth = int(round(width/8.0)*8.0)\n",
        "\n",
        "thisModel=\"/content/\"+model\n"
      ],
      "metadata": {
        "colab": {
          "base_uri": "https://localhost:8080/"
        },
        "id": "3h0Koh8Bjeyg",
        "outputId": "5dcf813a-eb4a-478d-8e3d-1c6b7703144f"
      },
      "execution_count": null,
      "outputs": [
        {
          "output_type": "stream",
          "name": "stdout",
          "text": [
            "/content/Text-To-Video-Finetuning\n",
            "seed is 5641571670149848983\n"
          ]
        }
      ]
    },
    {
      "cell_type": "code",
      "source": [
        "#@title Generate Animated Scene Videos\n",
        "\n",
        "scene_mp4_name = 'scene_f30.mp4'\n",
        "\n",
        "def get_scene_video(video_out_path:str, name:str):\n",
        "  for fp in os.listdir(video_out_path):\n",
        "    if fp.endswith('mp4'):\n",
        "      if fp != scene_mp4_name:\n",
        "        os.rename(os.path.join(video_out_path, fp), os.path.join(video_out_path, scene_mp4_name))\n",
        "      return os.path.join(video_out_path, scene_mp4_name)\n",
        "  return None\n",
        "\n",
        "def generate_video(name:str, prompt: str):\n",
        "  # Path to the video for the scene or None\n",
        "\n",
        "  video_out_path = os.path.join('/content/output/videos', name)\n",
        "  os.makedirs(video_out_path, exist_ok=True)\n",
        "\n",
        "  scene_video = get_scene_video(video_out_path, name)\n",
        "  if scene_video:\n",
        "    print(f'Already have video for: {prompt}')\n",
        "    return scene_video\n",
        "\n",
        "  print(f'Generating video for: {prompt}')\n",
        "  prompt = f\"\\\"{prompt}\\\"\"\n",
        "  !python inference.py -m {thisModel} -p {prompt} -n {negative} -W {thisWidth} -H {thisHeight} -o {video_out_path} -d cuda -x -s {num_steps} -g {guidance_scale} -f {fps} -T {num_frames} -seed {thisSeed}\n",
        "\n",
        "  return get_scene_video(video_out_path, name)\n",
        "\n",
        "videos_dir = os.path.join(out_dir, 'videos')\n",
        "os.makedirs(videos_dir, exist_ok=True)\n",
        "\n",
        "def description_to_name(description:str):\n",
        "  return re.sub(r'[^\\w\\d-]','_', description).lower()\n",
        "\n",
        "def description_to_videopath(description:str):\n",
        "  video_out_path = os.path.join('/content/output/videos', description_to_name(description))\n",
        "  return os.path.join(video_out_path, scene_mp4_name)\n",
        "\n",
        "with open(image_description_file_path, 'r') as csv_file:\n",
        "  reader = csv.DictReader(csv_file, quoting=csv.QUOTE_NONNUMERIC)\n",
        "  for row in reader:\n",
        "    print(row)\n",
        "    description = row['description']\n",
        "    name = description_to_name(description)\n",
        "    video_path = generate_video(name, description)\n",
        "    if video_path:\n",
        "      print(video_path)\n",
        "    else:\n",
        "      print(f\"No video for: {description}\")\n",
        "\n",
        "print('done')\n"
      ],
      "metadata": {
        "colab": {
          "base_uri": "https://localhost:8080/"
        },
        "id": "k4KXbdQvlctd",
        "outputId": "93bb82f3-e33f-4d5d-eb50-c016a114609e"
      },
      "execution_count": 65,
      "outputs": [
        {
          "output_type": "stream",
          "name": "stdout",
          "text": [
            "{'start': 0.0, 'duration': 5.48, 'text': '', 'description': 'A sunrise illuminating an 1812 era American battlefield, rendered in a dramatic, historic painting style.'}\n",
            "Already have video for: A sunrise illuminating an 1812 era American battlefield, rendered in a dramatic, historic painting style.\n",
            "/content/output/videos/a_sunrise_illuminating_an_1812_era_american_battlefield__rendered_in_a_dramatic__historic_painting_style_/scene_f30.mp4\n",
            "{'start': 5.48, 'duration': 4.18, 'text': 'Oh, say can you see', 'description': \"A close-up of a soldier's face, awestruck as he looks towards the horizon, depicted in a realistic, historic painting style.\"}\n",
            "Already have video for: A close-up of a soldier's face, awestruck as he looks towards the horizon, depicted in a realistic, historic painting style.\n",
            "/content/output/videos/a_close-up_of_a_soldier_s_face__awestruck_as_he_looks_towards_the_horizon__depicted_in_a_realistic__historic_painting_style_/scene_f30.mp4\n",
            "{'start': 9.66, 'duration': 4.1, 'text': \"By the dawn's early light\", 'description': \"The soldier's perspective of the horizon, where the first light of dawn is breaking, painted in a romantic, historic style.\"}\n",
            "Already have video for: The soldier's perspective of the horizon, where the first light of dawn is breaking, painted in a romantic, historic style.\n",
            "/content/output/videos/the_soldier_s_perspective_of_the_horizon__where_the_first_light_of_dawn_is_breaking__painted_in_a_romantic__historic_style_/scene_f30.mp4\n",
            "{'start': 13.76, 'duration': 4.64, 'text': 'What so proudly we hailed', 'description': 'A fading flashback of the soldiers hailing the American flag, illustrated in a dramatic, historic painting style.'}\n",
            "Already have video for: A fading flashback of the soldiers hailing the American flag, illustrated in a dramatic, historic painting style.\n",
            "/content/output/videos/a_fading_flashback_of_the_soldiers_hailing_the_american_flag__illustrated_in_a_dramatic__historic_painting_style_/scene_f30.mp4\n",
            "{'start': 18.4, 'duration': 4.16, 'text': \"At the twilight's last gleaming?\", 'description': \"The horizon scene transitions from dawn back to the previous night's twilight, captured in a historic, moody and atmospheric style.\"}\n",
            "Already have video for: The horizon scene transitions from dawn back to the previous night's twilight, captured in a historic, moody and atmospheric style.\n",
            "/content/output/videos/the_horizon_scene_transitions_from_dawn_back_to_the_previous_night_s_twilight__captured_in_a_historic__moody_and_atmospheric_style_/scene_f30.mp4\n",
            "{'start': 22.56, 'duration': 4.64, 'text': 'Whose broad stripes and bright stars', 'description': 'Close-up of the American flag at twilight, with its stripes and stars dramatically highlighted in the dim light, in a historic, realistic painting style.'}\n",
            "Already have video for: Close-up of the American flag at twilight, with its stripes and stars dramatically highlighted in the dim light, in a historic, realistic painting style.\n",
            "/content/output/videos/close-up_of_the_american_flag_at_twilight__with_its_stripes_and_stars_dramatically_highlighted_in_the_dim_light__in_a_historic__realistic_painting_style_/scene_f30.mp4\n",
            "{'start': 27.2, 'duration': 4.24, 'text': 'Through the perilous fight', 'description': 'Flashbacks of the battle that took place under the flag, presented in a dramatic, historic painting style.'}\n",
            "Already have video for: Flashbacks of the battle that took place under the flag, presented in a dramatic, historic painting style.\n",
            "/content/output/videos/flashbacks_of_the_battle_that_took_place_under_the_flag__presented_in_a_dramatic__historic_painting_style_/scene_f30.mp4\n",
            "{'start': 31.44, 'duration': 4.8, 'text': \"O'er the ramparts we watched\", 'description': 'The soldiers watching the battle from the ramparts of their fort, depicted in a realistic, historic painting style.'}\n",
            "Already have video for: The soldiers watching the battle from the ramparts of their fort, depicted in a realistic, historic painting style.\n",
            "/content/output/videos/the_soldiers_watching_the_battle_from_the_ramparts_of_their_fort__depicted_in_a_realistic__historic_painting_style_/scene_f30.mp4\n",
            "{'start': 36.24, 'duration': 4.72, 'text': 'Were so gallantly streaming?', 'description': 'Flag waving gallantly in the wind as the battle rages, portrayed in a dramatic, historic painting style.'}\n",
            "Already have video for: Flag waving gallantly in the wind as the battle rages, portrayed in a dramatic, historic painting style.\n",
            "/content/output/videos/flag_waving_gallantly_in_the_wind_as_the_battle_rages__portrayed_in_a_dramatic__historic_painting_style_/scene_f30.mp4\n",
            "{'start': 40.96, 'duration': 4.8, 'text': \"And the rockets' red glare!\", 'description': 'Rockets soaring through the air, their red glare illuminating the flag, shown in a dramatic, historic painting style.'}\n",
            "Already have video for: Rockets soaring through the air, their red glare illuminating the flag, shown in a dramatic, historic painting style.\n",
            "/content/output/videos/rockets_soaring_through_the_air__their_red_glare_illuminating_the_flag__shown_in_a_dramatic__historic_painting_style_/scene_f30.mp4\n",
            "{'start': 45.76, 'duration': 4.72, 'text': 'The bombs bursting in air!', 'description': 'Explosions in the night sky, backlighting the flag, painted in a dramatic, historic style.'}\n",
            "Already have video for: Explosions in the night sky, backlighting the flag, painted in a dramatic, historic style.\n",
            "/content/output/videos/explosions_in_the_night_sky__backlighting_the_flag__painted_in_a_dramatic__historic_style_/scene_f30.mp4\n",
            "{'start': 50.48, 'duration': 4.8, 'text': 'Gave proof through the night', 'description': 'The enduring flag providing a beacon of hope throughout the battle-filled night, depicted in a historic, romantic style.'}\n",
            "Already have video for: The enduring flag providing a beacon of hope throughout the battle-filled night, depicted in a historic, romantic style.\n",
            "/content/output/videos/the_enduring_flag_providing_a_beacon_of_hope_throughout_the_battle-filled_night__depicted_in_a_historic__romantic_style_/scene_f30.mp4\n",
            "{'start': 55.28, 'duration': 5.04, 'text': 'That our flag was still there', 'description': \"Dawn's early light revealing the flag still standing post-battle, depicted in a dramatic, historic painting style.\"}\n",
            "Already have video for: Dawn's early light revealing the flag still standing post-battle, depicted in a dramatic, historic painting style.\n",
            "/content/output/videos/dawn_s_early_light_revealing_the_flag_still_standing_post-battle__depicted_in_a_dramatic__historic_painting_style_/scene_f30.mp4\n",
            "{'start': 60.32, 'duration': 11.84, 'text': 'Oh, say does that star spangled banner yet wave', 'description': 'A panoramic view of the battlefield with the flag still waving, rendered in a dramatic, historic painting style.'}\n",
            "Already have video for: A panoramic view of the battlefield with the flag still waving, rendered in a dramatic, historic painting style.\n",
            "/content/output/videos/a_panoramic_view_of_the_battlefield_with_the_flag_still_waving__rendered_in_a_dramatic__historic_painting_style_/scene_f30.mp4\n",
            "{'start': 72.16, 'duration': 6.96, 'text': \"O'er the land of the free\", 'description': 'Transitions to various scenes across diverse American landscapes, showing the flag waving above free lands, depicted in a historic, romantic painting style.'}\n",
            "Already have video for: Transitions to various scenes across diverse American landscapes, showing the flag waving above free lands, depicted in a historic, romantic painting style.\n",
            "/content/output/videos/transitions_to_various_scenes_across_diverse_american_landscapes__showing_the_flag_waving_above_free_lands__depicted_in_a_historic__romantic_painting_style_/scene_f30.mp4\n",
            "{'start': 79.12, 'duration': 8.72, 'text': 'And the home of the brave?', 'description': 'An inclusive montage of brave people from various ethnicities, genders, traditions, religions, languages, political views, philosophies, and identities, all under the waving flag, illustrated in a realistic, historic painting style.'}\n",
            "Already have video for: An inclusive montage of brave people from various ethnicities, genders, traditions, religions, languages, political views, philosophies, and identities, all under the waving flag, illustrated in a realistic, historic painting style.\n",
            "/content/output/videos/an_inclusive_montage_of_brave_people_from_various_ethnicities__genders__traditions__religions__languages__political_views__philosophies__and_identities__all_under_the_waving_flag__illustrated_in_a_realistic__historic_painting_style_/scene_f30.mp4\n",
            "done\n"
          ]
        }
      ]
    },
    {
      "cell_type": "code",
      "source": [
        "#!@title Concatenate scene videos into single video\n",
        "\n",
        "import ffmpeg\n",
        "\n",
        "video_path = os.path.join(out_dir, 'video.mp4')\n",
        "\n",
        "video_inputs = []\n",
        "video_input_paths = []\n",
        "with open(image_description_file_path, 'r') as csv_file:\n",
        "  reader = csv.DictReader(csv_file, quoting=csv.QUOTE_NONNUMERIC)\n",
        "  for row in reader:\n",
        "    print(row)\n",
        "    description = row['description']\n",
        "    scene_videopath = description_to_videopath(description)\n",
        "    print(scene_videopath)\n",
        "    if not os.path.exists(scene_videopath):\n",
        "      print(f\"Missing scene file: {scene_videopath}\")\n",
        "      continue\n",
        "    video_in = ffmpeg.input(scene_videopath)\n",
        "    video_inputs.append(video_in)\n",
        "    video_input_paths.append(scene_videopath)\n",
        "\n",
        "print(f'len(video_inputs): {len(video_inputs)}')\n",
        "print(video_inputs)\n",
        "with open(os.path.join(out_dir, 'video_input_paths.txt'), 'w') as f:\n",
        "  for video_input_path in video_input_paths:\n",
        "    f.write(f\"file '{video_input_path}'\\n\")\n",
        "\n",
        "# ffmpeg_args = ffmpeg.concat(*video_inputs, v=1, a=1).output(video_with_audio_path).overwrite_output()\n",
        "ffmpeg_args = ffmpeg.concat(*video_inputs, v=1, a=0).output(video_path).overwrite_output()\n",
        "# ffmpeg_args = ffmpeg.filter_('concat', *video_inputs, v=1, a=1, n=len(video_inputs)).output(video_path).overwrite_output()\n",
        "# print(' -i '.join(video_input_paths))\n",
        "# print(' '.join(ffmpeg_args.compile()))\n",
        "print('concatenating with ffmpeg')\n",
        "result = ffmpeg_args.run()\n",
        "print('Done merging')\n",
        "\n"
      ],
      "metadata": {
        "colab": {
          "base_uri": "https://localhost:8080/"
        },
        "id": "NjzRH1rZTL_q",
        "outputId": "20da8df7-518c-4f29-b00c-ec219f2f2357"
      },
      "execution_count": 67,
      "outputs": [
        {
          "output_type": "stream",
          "name": "stdout",
          "text": [
            "{'start': 0.0, 'duration': 5.48, 'text': '', 'description': 'A sunrise illuminating an 1812 era American battlefield, rendered in a dramatic, historic painting style.'}\n",
            "/content/output/videos/a_sunrise_illuminating_an_1812_era_american_battlefield__rendered_in_a_dramatic__historic_painting_style_/scene_f30.mp4\n",
            "{'start': 5.48, 'duration': 4.18, 'text': 'Oh, say can you see', 'description': \"A close-up of a soldier's face, awestruck as he looks towards the horizon, depicted in a realistic, historic painting style.\"}\n",
            "/content/output/videos/a_close-up_of_a_soldier_s_face__awestruck_as_he_looks_towards_the_horizon__depicted_in_a_realistic__historic_painting_style_/scene_f30.mp4\n",
            "{'start': 9.66, 'duration': 4.1, 'text': \"By the dawn's early light\", 'description': \"The soldier's perspective of the horizon, where the first light of dawn is breaking, painted in a romantic, historic style.\"}\n",
            "/content/output/videos/the_soldier_s_perspective_of_the_horizon__where_the_first_light_of_dawn_is_breaking__painted_in_a_romantic__historic_style_/scene_f30.mp4\n",
            "{'start': 13.76, 'duration': 4.64, 'text': 'What so proudly we hailed', 'description': 'A fading flashback of the soldiers hailing the American flag, illustrated in a dramatic, historic painting style.'}\n",
            "/content/output/videos/a_fading_flashback_of_the_soldiers_hailing_the_american_flag__illustrated_in_a_dramatic__historic_painting_style_/scene_f30.mp4\n",
            "{'start': 18.4, 'duration': 4.16, 'text': \"At the twilight's last gleaming?\", 'description': \"The horizon scene transitions from dawn back to the previous night's twilight, captured in a historic, moody and atmospheric style.\"}\n",
            "/content/output/videos/the_horizon_scene_transitions_from_dawn_back_to_the_previous_night_s_twilight__captured_in_a_historic__moody_and_atmospheric_style_/scene_f30.mp4\n",
            "{'start': 22.56, 'duration': 4.64, 'text': 'Whose broad stripes and bright stars', 'description': 'Close-up of the American flag at twilight, with its stripes and stars dramatically highlighted in the dim light, in a historic, realistic painting style.'}\n",
            "/content/output/videos/close-up_of_the_american_flag_at_twilight__with_its_stripes_and_stars_dramatically_highlighted_in_the_dim_light__in_a_historic__realistic_painting_style_/scene_f30.mp4\n",
            "{'start': 27.2, 'duration': 4.24, 'text': 'Through the perilous fight', 'description': 'Flashbacks of the battle that took place under the flag, presented in a dramatic, historic painting style.'}\n",
            "/content/output/videos/flashbacks_of_the_battle_that_took_place_under_the_flag__presented_in_a_dramatic__historic_painting_style_/scene_f30.mp4\n",
            "{'start': 31.44, 'duration': 4.8, 'text': \"O'er the ramparts we watched\", 'description': 'The soldiers watching the battle from the ramparts of their fort, depicted in a realistic, historic painting style.'}\n",
            "/content/output/videos/the_soldiers_watching_the_battle_from_the_ramparts_of_their_fort__depicted_in_a_realistic__historic_painting_style_/scene_f30.mp4\n",
            "{'start': 36.24, 'duration': 4.72, 'text': 'Were so gallantly streaming?', 'description': 'Flag waving gallantly in the wind as the battle rages, portrayed in a dramatic, historic painting style.'}\n",
            "/content/output/videos/flag_waving_gallantly_in_the_wind_as_the_battle_rages__portrayed_in_a_dramatic__historic_painting_style_/scene_f30.mp4\n",
            "{'start': 40.96, 'duration': 4.8, 'text': \"And the rockets' red glare!\", 'description': 'Rockets soaring through the air, their red glare illuminating the flag, shown in a dramatic, historic painting style.'}\n",
            "/content/output/videos/rockets_soaring_through_the_air__their_red_glare_illuminating_the_flag__shown_in_a_dramatic__historic_painting_style_/scene_f30.mp4\n",
            "{'start': 45.76, 'duration': 4.72, 'text': 'The bombs bursting in air!', 'description': 'Explosions in the night sky, backlighting the flag, painted in a dramatic, historic style.'}\n",
            "/content/output/videos/explosions_in_the_night_sky__backlighting_the_flag__painted_in_a_dramatic__historic_style_/scene_f30.mp4\n",
            "{'start': 50.48, 'duration': 4.8, 'text': 'Gave proof through the night', 'description': 'The enduring flag providing a beacon of hope throughout the battle-filled night, depicted in a historic, romantic style.'}\n",
            "/content/output/videos/the_enduring_flag_providing_a_beacon_of_hope_throughout_the_battle-filled_night__depicted_in_a_historic__romantic_style_/scene_f30.mp4\n",
            "{'start': 55.28, 'duration': 5.04, 'text': 'That our flag was still there', 'description': \"Dawn's early light revealing the flag still standing post-battle, depicted in a dramatic, historic painting style.\"}\n",
            "/content/output/videos/dawn_s_early_light_revealing_the_flag_still_standing_post-battle__depicted_in_a_dramatic__historic_painting_style_/scene_f30.mp4\n",
            "{'start': 60.32, 'duration': 11.84, 'text': 'Oh, say does that star spangled banner yet wave', 'description': 'A panoramic view of the battlefield with the flag still waving, rendered in a dramatic, historic painting style.'}\n",
            "/content/output/videos/a_panoramic_view_of_the_battlefield_with_the_flag_still_waving__rendered_in_a_dramatic__historic_painting_style_/scene_f30.mp4\n",
            "{'start': 72.16, 'duration': 6.96, 'text': \"O'er the land of the free\", 'description': 'Transitions to various scenes across diverse American landscapes, showing the flag waving above free lands, depicted in a historic, romantic painting style.'}\n",
            "/content/output/videos/transitions_to_various_scenes_across_diverse_american_landscapes__showing_the_flag_waving_above_free_lands__depicted_in_a_historic__romantic_painting_style_/scene_f30.mp4\n",
            "{'start': 79.12, 'duration': 8.72, 'text': 'And the home of the brave?', 'description': 'An inclusive montage of brave people from various ethnicities, genders, traditions, religions, languages, political views, philosophies, and identities, all under the waving flag, illustrated in a realistic, historic painting style.'}\n",
            "/content/output/videos/an_inclusive_montage_of_brave_people_from_various_ethnicities__genders__traditions__religions__languages__political_views__philosophies__and_identities__all_under_the_waving_flag__illustrated_in_a_realistic__historic_painting_style_/scene_f30.mp4\n",
            "len(video_inputs): 16\n",
            "[input(filename='/content/output/videos/a_sunrise_illuminating_an_1812_era_american_battlefield__rendered_in_a_dramatic__historic_painting_style_/scene_f30.mp4')[None] <1bec888201f7>, input(filename='/content/output/videos/a_close-up_of_a_soldier_s_face__awestruck_as_he_looks_towards_the_horizon__depicted_in_a_realistic__historic_painting_style_/scene_f30.mp4')[None] <b9500f9174d4>, input(filename='/content/output/videos/the_soldier_s_perspective_of_the_horizon__where_the_first_light_of_dawn_is_breaking__painted_in_a_romantic__historic_style_/scene_f30.mp4')[None] <25644d39e6a7>, input(filename='/content/output/videos/a_fading_flashback_of_the_soldiers_hailing_the_american_flag__illustrated_in_a_dramatic__historic_painting_style_/scene_f30.mp4')[None] <1b9302f2d420>, input(filename='/content/output/videos/the_horizon_scene_transitions_from_dawn_back_to_the_previous_night_s_twilight__captured_in_a_historic__moody_and_atmospheric_style_/scene_f30.mp4')[None] <2b1c172aac92>, input(filename='/content/output/videos/close-up_of_the_american_flag_at_twilight__with_its_stripes_and_stars_dramatically_highlighted_in_the_dim_light__in_a_historic__realistic_painting_style_/scene_f30.mp4')[None] <1856fe7671ba>, input(filename='/content/output/videos/flashbacks_of_the_battle_that_took_place_under_the_flag__presented_in_a_dramatic__historic_painting_style_/scene_f30.mp4')[None] <8f0b2974e518>, input(filename='/content/output/videos/the_soldiers_watching_the_battle_from_the_ramparts_of_their_fort__depicted_in_a_realistic__historic_painting_style_/scene_f30.mp4')[None] <173eeb06d6c2>, input(filename='/content/output/videos/flag_waving_gallantly_in_the_wind_as_the_battle_rages__portrayed_in_a_dramatic__historic_painting_style_/scene_f30.mp4')[None] <1cbb959c95b8>, input(filename='/content/output/videos/rockets_soaring_through_the_air__their_red_glare_illuminating_the_flag__shown_in_a_dramatic__historic_painting_style_/scene_f30.mp4')[None] <4b7b8b9f18d3>, input(filename='/content/output/videos/explosions_in_the_night_sky__backlighting_the_flag__painted_in_a_dramatic__historic_style_/scene_f30.mp4')[None] <1061a10a0c6a>, input(filename='/content/output/videos/the_enduring_flag_providing_a_beacon_of_hope_throughout_the_battle-filled_night__depicted_in_a_historic__romantic_style_/scene_f30.mp4')[None] <16d33ad486de>, input(filename='/content/output/videos/dawn_s_early_light_revealing_the_flag_still_standing_post-battle__depicted_in_a_dramatic__historic_painting_style_/scene_f30.mp4')[None] <1baa9cbbc083>, input(filename='/content/output/videos/a_panoramic_view_of_the_battlefield_with_the_flag_still_waving__rendered_in_a_dramatic__historic_painting_style_/scene_f30.mp4')[None] <9578d243f875>, input(filename='/content/output/videos/transitions_to_various_scenes_across_diverse_american_landscapes__showing_the_flag_waving_above_free_lands__depicted_in_a_historic__romantic_painting_style_/scene_f30.mp4')[None] <ba100ac708b8>, input(filename='/content/output/videos/an_inclusive_montage_of_brave_people_from_various_ethnicities__genders__traditions__religions__languages__political_views__philosophies__and_identities__all_under_the_waving_flag__illustrated_in_a_realistic__historic_painting_style_/scene_f30.mp4')[None] <18f74c6ed0f9>]\n",
            "concatenating with ffmpeg\n",
            "Done merging\n"
          ]
        }
      ]
    },
    {
      "cell_type": "code",
      "source": [
        "#@title Merge Audio with Video using ffmpeg-python\n",
        "import ffmpeg\n",
        "\n",
        "video_with_audio_path = os.path.join(out_dir, 'video_with_audio.mp4')\n",
        "destfile_time = None\n",
        "if os.path.exists(video_with_audio_path):\n",
        "  destfile_time = os.path.getmtime(video_with_audio_path)\n",
        "\n",
        "if (destfile_time is not None) and (destfile_time > os.path.getmtime(video_path)):\n",
        "  print('video with audio already exists: ', video_with_audio_path)\n",
        "else:\n",
        "  video_in = ffmpeg.input(video_path)\n",
        "  audio_in = ffmpeg.input(audio_file_path)\n",
        "  try:\n",
        "    ffmpeg_args = ffmpeg.concat(video_in, audio_in, v=1, a=1).output(video_with_audio_path).overwrite_output()\n",
        "    print('concatenating with ffmpeg')\n",
        "    result = ffmpeg_args.run()\n",
        "    print('Done merging')\n",
        "  except:\n",
        "    print('Merge failed!')\n"
      ],
      "metadata": {
        "colab": {
          "base_uri": "https://localhost:8080/"
        },
        "id": "NiaCESjJty_1",
        "outputId": "b7ce965e-709e-46d3-d9ab-d41fa436bc3f"
      },
      "execution_count": null,
      "outputs": [
        {
          "output_type": "stream",
          "name": "stdout",
          "text": [
            "concatenating with ffmpeg\n",
            "Done merging\n"
          ]
        }
      ]
    },
    {
      "cell_type": "code",
      "source": [
        "video_with_audio_path"
      ],
      "metadata": {
        "colab": {
          "base_uri": "https://localhost:8080/",
          "height": 36
        },
        "id": "VPmaUAYclEDm",
        "outputId": "1bc62b3a-ce5f-4235-a40f-e6e9ab66463a"
      },
      "execution_count": null,
      "outputs": [
        {
          "output_type": "execute_result",
          "data": {
            "text/plain": [
              "'/content/gdrive/MyDrive/Commentator_AI/Transcript_to_Video/DADmZdbQ9x8/video_with_audio.mp4'"
            ],
            "application/vnd.google.colaboratory.intrinsic+json": {
              "type": "string"
            }
          },
          "metadata": {},
          "execution_count": 38
        }
      ]
    }
  ]
}